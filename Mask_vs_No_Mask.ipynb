{
  "nbformat": 4,
  "nbformat_minor": 0,
  "metadata": {
    "colab": {
      "name": "Mask_vs_No_Mask.ipynb",
      "provenance": [],
      "collapsed_sections": [
        "CsUz6_T-U2kz",
        "pQeExlR2osVF"
      ],
      "authorship_tag": "ABX9TyPnU5JHl9VAb/KMHdZx8dFq",
      "include_colab_link": true
    },
    "kernelspec": {
      "name": "python3",
      "display_name": "Python 3"
    },
    "language_info": {
      "name": "python"
    }
  },
  "cells": [
    {
      "cell_type": "markdown",
      "metadata": {
        "id": "view-in-github",
        "colab_type": "text"
      },
      "source": [
        "<a href=\"https://colab.research.google.com/github/JayeshK10/Mass-vs-NoMass-Classification/blob/main/Mask_vs_No_Mask.ipynb\" target=\"_parent\"><img src=\"https://colab.research.google.com/assets/colab-badge.svg\" alt=\"Open In Colab\"/></a>"
      ]
    },
    {
      "cell_type": "code",
      "metadata": {
        "id": "1OSz6tvKByjc"
      },
      "source": [
        ""
      ],
      "execution_count": null,
      "outputs": []
    },
    {
      "cell_type": "markdown",
      "metadata": {
        "id": "CsUz6_T-U2kz"
      },
      "source": [
        "# Dependencies"
      ]
    },
    {
      "cell_type": "code",
      "metadata": {
        "id": "v1RqSuNipKS-"
      },
      "source": [
        "import pandas as pd\n",
        "import numpy as np\n",
        "import matplotlib.pyplot as plt\n",
        "import seaborn as sns\n",
        "import matplotlib.image as mpimg\n",
        "import shutil\n",
        "import random\n",
        "import pickle\n",
        "\n",
        "\n",
        "from sklearn.model_selection import train_test_split\n",
        "from sklearn.metrics import accuracy_score, confusion_matrix, f1_score, precision_score, recall_score, classification_report\n",
        "\n",
        "from sklearn.preprocessing import StandardScaler\n",
        "from sklearn.decomposition import PCA\n",
        "from numpy import linalg as LA\n",
        "from sklearn.neural_network import MLPClassifier\n",
        "from sklearn.svm import SVC\n",
        "from sklearn.discriminant_analysis import LinearDiscriminantAnalysis as LDA\n",
        "from sklearn.neighbors import KNeighborsClassifier\n",
        "from sklearn.model_selection import cross_val_score\n",
        "from sklearn.ensemble import RandomForestClassifier\n",
        "\n",
        "import keras\n",
        "from keras.models import Sequential\n",
        "from keras.layers.convolutional import Conv2D\n",
        "from keras.layers import MaxPooling2D\n",
        "from keras.layers import Flatten\n",
        "from keras.layers import Dense\n",
        "from keras.layers import Dropout\n",
        "from keras.utils import np_utils\n",
        "\n",
        "import os\n",
        "import tensorflow as tf\n",
        "from tensorflow.keras import layers\n",
        "from tensorflow.keras.models import Sequential\n",
        "\n",
        "import cv2\n",
        "import matplotlib.image as mpimg\n",
        "import glob \n",
        "import shutil"
      ],
      "execution_count": null,
      "outputs": []
    },
    {
      "cell_type": "markdown",
      "metadata": {
        "id": "pQeExlR2osVF"
      },
      "source": [
        "# Loading Data"
      ]
    },
    {
      "cell_type": "code",
      "metadata": {
        "id": "75jOlQHL2kWp"
      },
      "source": [
        "face_data_path = '/content/drive/MyDrive/Data_set/Mini_Proj/AFDB_face_dataset/*/*'\n",
        "mask_data_path = '/content/drive/MyDrive/Data_set/Mini_Proj/AFDB_masked_face_dataset/*/*'\n",
        "\n",
        "def image_loader(folder):\n",
        "  img_path = []\n",
        "  for img in glob.glob(folder):\n",
        "    img_path.append(str(img))\n",
        "  return img_path\n",
        "\n",
        "no_mask_images = image_loader(face_data_path)\n",
        "mask_images = image_loader(mask_data_path)"
      ],
      "execution_count": null,
      "outputs": []
    },
    {
      "cell_type": "code",
      "metadata": {
        "colab": {
          "base_uri": "https://localhost:8080/"
        },
        "id": "jTmo_m1k6chS",
        "outputId": "02bb090c-17a9-4203-c77c-2ea86a91e019"
      },
      "source": [
        "a = len(mask_images) if (len(no_mask_images) > len(mask_images)) else len(no_mask_images) \n",
        "no_mask_img = no_mask_images[0:a]\n",
        "mask_img = mask_images[0:a]\n",
        "print('Number of no_mask images' , len(no_mask_img))\n",
        "print('Number of mask images' , len(mask_img))"
      ],
      "execution_count": null,
      "outputs": [
        {
          "output_type": "stream",
          "text": [
            "Number of no_mask images 2203\n",
            "Number of mask images 2203\n"
          ],
          "name": "stdout"
        }
      ]
    },
    {
      "cell_type": "code",
      "metadata": {
        "id": "oA5giwucSUn0"
      },
      "source": [
        "def feature_extraction (dir_path , label_value):\n",
        "  data = []\n",
        "  label = []\n",
        "  #img_list = []\n",
        "  for filename in dir_path:\n",
        "    img = mpimg.imread(filename)\n",
        "    if img is not None:\n",
        "      #img_list.append(img)\n",
        "      gray_img = cv2.cvtColor(img, cv2.COLOR_RGB2GRAY)\n",
        "      resized = cv2.resize(gray_img,(28, 28), interpolation=cv2.INTER_CUBIC)\n",
        "      # cv2_imshow(resized)\n",
        "      data.append(resized.flatten())\n",
        "      label.append(label_value)\n",
        "  return data , label"
      ],
      "execution_count": null,
      "outputs": []
    },
    {
      "cell_type": "code",
      "metadata": {
        "id": "jZ5s4p1FtMga"
      },
      "source": [
        "data_no_mask , label_no_mask = feature_extraction(no_mask_img , 0)\n",
        "data_mask , label_mask = feature_extraction(mask_img , 1)"
      ],
      "execution_count": null,
      "outputs": []
    }
  ]
}