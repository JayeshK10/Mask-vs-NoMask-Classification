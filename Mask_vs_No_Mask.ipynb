{
  "nbformat": 4,
  "nbformat_minor": 0,
  "metadata": {
    "colab": {
      "name": "Mask_vs_No_Mask.ipynb",
      "provenance": [],
      "collapsed_sections": [
        "CsUz6_T-U2kz",
        "pQeExlR2osVF",
        "OGYEp_3MCJeP",
        "23-yPp-gCWxi",
        "Rn5E2MJYvPg2",
        "2bXb80TxiQv8"
      ]
    },
    "kernelspec": {
      "name": "python3",
      "display_name": "Python 3"
    },
    "language_info": {
      "name": "python"
    }
  },
  "cells": [
    {
      "cell_type": "code",
      "metadata": {
        "id": "1OSz6tvKByjc"
      },
      "source": [
        ""
      ],
      "execution_count": null,
      "outputs": []
    },
    {
      "cell_type": "markdown",
      "metadata": {
        "id": "CsUz6_T-U2kz"
      },
      "source": [
        "# Dependencies"
      ]
    },
    {
      "cell_type": "code",
      "metadata": {
        "id": "v1RqSuNipKS-"
      },
      "source": [
        "import pandas as pd\n",
        "import numpy as np\n",
        "import matplotlib.pyplot as plt\n",
        "import seaborn as sns\n",
        "import matplotlib.image as mpimg\n",
        "import shutil\n",
        "import random\n",
        "import pickle\n",
        "\n",
        "\n",
        "from sklearn.model_selection import train_test_split\n",
        "from sklearn.metrics import accuracy_score, confusion_matrix, f1_score, precision_score, recall_score, classification_report\n",
        "\n",
        "from sklearn.preprocessing import StandardScaler\n",
        "from sklearn.decomposition import PCA\n",
        "from numpy import linalg as LA\n",
        "from sklearn.neural_network import MLPClassifier\n",
        "from sklearn.svm import SVC\n",
        "from sklearn.discriminant_analysis import LinearDiscriminantAnalysis as LDA\n",
        "from sklearn.neighbors import KNeighborsClassifier\n",
        "from sklearn.model_selection import cross_val_score\n",
        "from sklearn.ensemble import RandomForestClassifier\n",
        "\n",
        "import keras\n",
        "from keras.models import Sequential\n",
        "from keras.layers.convolutional import Conv2D\n",
        "from keras.layers import MaxPooling2D\n",
        "from keras.layers import Flatten\n",
        "from keras.layers import Dense\n",
        "from keras.layers import Dropout\n",
        "from keras.utils import np_utils\n",
        "\n",
        "import os\n",
        "import tensorflow as tf\n",
        "from tensorflow.keras import layers\n",
        "from tensorflow.keras.models import Sequential\n",
        "\n",
        "import cv2\n",
        "import matplotlib.image as mpimg\n",
        "import glob \n",
        "import shutil"
      ],
      "execution_count": null,
      "outputs": []
    },
    {
      "cell_type": "markdown",
      "metadata": {
        "id": "pQeExlR2osVF"
      },
      "source": [
        "# Loading Data"
      ]
    },
    {
      "cell_type": "code",
      "metadata": {
        "id": "75jOlQHL2kWp"
      },
      "source": [
        "face_data_path = '/content/drive/MyDrive/Data_set/Mini_Proj/AFDB_face_dataset/*/*'\n",
        "mask_data_path = '/content/drive/MyDrive/Data_set/Mini_Proj/AFDB_masked_face_dataset/*/*'\n",
        "\n",
        "def image_loader(folder):\n",
        "  img_path = []\n",
        "  for img in glob.glob(folder):\n",
        "    img_path.append(str(img))\n",
        "  return img_path\n",
        "\n",
        "no_mask_images = image_loader(face_data_path)\n",
        "mask_images = image_loader(mask_data_path)"
      ],
      "execution_count": null,
      "outputs": []
    },
    {
      "cell_type": "code",
      "metadata": {
        "colab": {
          "base_uri": "https://localhost:8080/"
        },
        "id": "jTmo_m1k6chS",
        "outputId": "02bb090c-17a9-4203-c77c-2ea86a91e019"
      },
      "source": [
        "a = len(mask_images) if (len(no_mask_images) > len(mask_images)) else len(no_mask_images) \n",
        "no_mask_img = no_mask_images[0:a]\n",
        "mask_img = mask_images[0:a]\n",
        "print('Number of no_mask images' , len(no_mask_img))\n",
        "print('Number of mask images' , len(mask_img))"
      ],
      "execution_count": null,
      "outputs": [
        {
          "output_type": "stream",
          "text": [
            "Number of no_mask images 2203\n",
            "Number of mask images 2203\n"
          ],
          "name": "stdout"
        }
      ]
    },
    {
      "cell_type": "code",
      "metadata": {
        "id": "oA5giwucSUn0"
      },
      "source": [
        "def feature_extraction (dir_path , label_value):\n",
        "  data = []\n",
        "  label = []\n",
        "  #img_list = []\n",
        "  for filename in dir_path:\n",
        "    img = mpimg.imread(filename)\n",
        "    if img is not None:\n",
        "      #img_list.append(img)\n",
        "      gray_img = cv2.cvtColor(img, cv2.COLOR_RGB2GRAY)\n",
        "      resized = cv2.resize(gray_img,(28, 28), interpolation=cv2.INTER_CUBIC)\n",
        "      # cv2_imshow(resized)\n",
        "      data.append(resized.flatten())\n",
        "      label.append(label_value)\n",
        "  return data , label"
      ],
      "execution_count": null,
      "outputs": []
    },
    {
      "cell_type": "code",
      "metadata": {
        "id": "jZ5s4p1FtMga"
      },
      "source": [
        "data_no_mask , label_no_mask = feature_extraction(no_mask_img , 0)\n",
        "data_mask , label_mask = feature_extraction(mask_img , 1)"
      ],
      "execution_count": null,
      "outputs": []
    },
    {
      "cell_type": "markdown",
      "metadata": {
        "id": "OGYEp_3MCJeP"
      },
      "source": [
        "# Creating Laten Vector from Images"
      ]
    },
    {
      "cell_type": "code",
      "metadata": {
        "id": "o6WaN6FTxwF0"
      },
      "source": [
        "X = data_no_mask + data_mask\n",
        "Y = label_no_mask + label_mask"
      ],
      "execution_count": null,
      "outputs": []
    },
    {
      "cell_type": "code",
      "metadata": {
        "colab": {
          "base_uri": "https://localhost:8080/"
        },
        "id": "_sDhxWUZyJEP",
        "outputId": "6e230e24-f657-4e1e-86a0-c57ad3189794"
      },
      "source": [
        "if len(X) == len(Y):\n",
        "  print('Number of data values: ' , len(X))\n",
        "\n",
        "print('Number of features' , len(X[0]))"
      ],
      "execution_count": null,
      "outputs": [
        {
          "output_type": "stream",
          "text": [
            "Number of data values:  4406\n",
            "Number of features 784\n"
          ],
          "name": "stdout"
        }
      ]
    },
    {
      "cell_type": "code",
      "metadata": {
        "colab": {
          "base_uri": "https://localhost:8080/"
        },
        "id": "yhmc6Uowyf8V",
        "outputId": "ce3ef274-cbdb-4a4a-930a-523e3197d71f"
      },
      "source": [
        "X_df = pd.DataFrame(X, columns = list(range(0 , len(X[0]))))\n",
        "Y_df = pd.DataFrame(Y , columns = ['Label'])\n",
        "\n",
        "df = pd.concat([X_df, Y_df], axis=1)\n",
        "df.head()"
      ],
      "execution_count": null,
      "outputs": [
        {
          "output_type": "execute_result",
          "data": {
            "text/html": [
              "<div>\n",
              "<style scoped>\n",
              "    .dataframe tbody tr th:only-of-type {\n",
              "        vertical-align: middle;\n",
              "    }\n",
              "\n",
              "    .dataframe tbody tr th {\n",
              "        vertical-align: top;\n",
              "    }\n",
              "\n",
              "    .dataframe thead th {\n",
              "        text-align: right;\n",
              "    }\n",
              "</style>\n",
              "<table border=\"1\" class=\"dataframe\">\n",
              "  <thead>\n",
              "    <tr style=\"text-align: right;\">\n",
              "      <th></th>\n",
              "      <th>0</th>\n",
              "      <th>1</th>\n",
              "      <th>2</th>\n",
              "      <th>3</th>\n",
              "      <th>4</th>\n",
              "      <th>5</th>\n",
              "      <th>6</th>\n",
              "      <th>7</th>\n",
              "      <th>8</th>\n",
              "      <th>9</th>\n",
              "      <th>10</th>\n",
              "      <th>11</th>\n",
              "      <th>12</th>\n",
              "      <th>13</th>\n",
              "      <th>14</th>\n",
              "      <th>15</th>\n",
              "      <th>16</th>\n",
              "      <th>17</th>\n",
              "      <th>18</th>\n",
              "      <th>19</th>\n",
              "      <th>20</th>\n",
              "      <th>21</th>\n",
              "      <th>22</th>\n",
              "      <th>23</th>\n",
              "      <th>24</th>\n",
              "      <th>25</th>\n",
              "      <th>26</th>\n",
              "      <th>27</th>\n",
              "      <th>28</th>\n",
              "      <th>29</th>\n",
              "      <th>30</th>\n",
              "      <th>31</th>\n",
              "      <th>32</th>\n",
              "      <th>33</th>\n",
              "      <th>34</th>\n",
              "      <th>35</th>\n",
              "      <th>36</th>\n",
              "      <th>37</th>\n",
              "      <th>38</th>\n",
              "      <th>39</th>\n",
              "      <th>...</th>\n",
              "      <th>745</th>\n",
              "      <th>746</th>\n",
              "      <th>747</th>\n",
              "      <th>748</th>\n",
              "      <th>749</th>\n",
              "      <th>750</th>\n",
              "      <th>751</th>\n",
              "      <th>752</th>\n",
              "      <th>753</th>\n",
              "      <th>754</th>\n",
              "      <th>755</th>\n",
              "      <th>756</th>\n",
              "      <th>757</th>\n",
              "      <th>758</th>\n",
              "      <th>759</th>\n",
              "      <th>760</th>\n",
              "      <th>761</th>\n",
              "      <th>762</th>\n",
              "      <th>763</th>\n",
              "      <th>764</th>\n",
              "      <th>765</th>\n",
              "      <th>766</th>\n",
              "      <th>767</th>\n",
              "      <th>768</th>\n",
              "      <th>769</th>\n",
              "      <th>770</th>\n",
              "      <th>771</th>\n",
              "      <th>772</th>\n",
              "      <th>773</th>\n",
              "      <th>774</th>\n",
              "      <th>775</th>\n",
              "      <th>776</th>\n",
              "      <th>777</th>\n",
              "      <th>778</th>\n",
              "      <th>779</th>\n",
              "      <th>780</th>\n",
              "      <th>781</th>\n",
              "      <th>782</th>\n",
              "      <th>783</th>\n",
              "      <th>Label</th>\n",
              "    </tr>\n",
              "  </thead>\n",
              "  <tbody>\n",
              "    <tr>\n",
              "      <th>0</th>\n",
              "      <td>46.0</td>\n",
              "      <td>47.0</td>\n",
              "      <td>41.0</td>\n",
              "      <td>41.0</td>\n",
              "      <td>37.0</td>\n",
              "      <td>44.0</td>\n",
              "      <td>38.0</td>\n",
              "      <td>42.0</td>\n",
              "      <td>45.0</td>\n",
              "      <td>39.0</td>\n",
              "      <td>41.0</td>\n",
              "      <td>38.0</td>\n",
              "      <td>40.0</td>\n",
              "      <td>47.0</td>\n",
              "      <td>55.0</td>\n",
              "      <td>61.0</td>\n",
              "      <td>78.0</td>\n",
              "      <td>67.0</td>\n",
              "      <td>68.0</td>\n",
              "      <td>95.0</td>\n",
              "      <td>109.0</td>\n",
              "      <td>80.0</td>\n",
              "      <td>68.0</td>\n",
              "      <td>55.0</td>\n",
              "      <td>43.0</td>\n",
              "      <td>52.0</td>\n",
              "      <td>53.0</td>\n",
              "      <td>49.0</td>\n",
              "      <td>39.0</td>\n",
              "      <td>38.0</td>\n",
              "      <td>32.0</td>\n",
              "      <td>33.0</td>\n",
              "      <td>39.0</td>\n",
              "      <td>40.0</td>\n",
              "      <td>38.0</td>\n",
              "      <td>34.0</td>\n",
              "      <td>33.0</td>\n",
              "      <td>45.0</td>\n",
              "      <td>36.0</td>\n",
              "      <td>26.0</td>\n",
              "      <td>...</td>\n",
              "      <td>220.0</td>\n",
              "      <td>195.0</td>\n",
              "      <td>48.0</td>\n",
              "      <td>33.0</td>\n",
              "      <td>18.0</td>\n",
              "      <td>22.0</td>\n",
              "      <td>39.0</td>\n",
              "      <td>50.0</td>\n",
              "      <td>59.0</td>\n",
              "      <td>59.0</td>\n",
              "      <td>55.0</td>\n",
              "      <td>188.0</td>\n",
              "      <td>177.0</td>\n",
              "      <td>175.0</td>\n",
              "      <td>177.0</td>\n",
              "      <td>177.0</td>\n",
              "      <td>177.0</td>\n",
              "      <td>178.0</td>\n",
              "      <td>182.0</td>\n",
              "      <td>190.0</td>\n",
              "      <td>189.0</td>\n",
              "      <td>190.0</td>\n",
              "      <td>194.0</td>\n",
              "      <td>200.0</td>\n",
              "      <td>199.0</td>\n",
              "      <td>212.0</td>\n",
              "      <td>215.0</td>\n",
              "      <td>209.0</td>\n",
              "      <td>182.0</td>\n",
              "      <td>45.0</td>\n",
              "      <td>8.0</td>\n",
              "      <td>31.0</td>\n",
              "      <td>32.0</td>\n",
              "      <td>26.0</td>\n",
              "      <td>23.0</td>\n",
              "      <td>45.0</td>\n",
              "      <td>62.0</td>\n",
              "      <td>58.0</td>\n",
              "      <td>54.0</td>\n",
              "      <td>0</td>\n",
              "    </tr>\n",
              "    <tr>\n",
              "      <th>1</th>\n",
              "      <td>15.0</td>\n",
              "      <td>6.0</td>\n",
              "      <td>15.0</td>\n",
              "      <td>10.0</td>\n",
              "      <td>19.0</td>\n",
              "      <td>18.0</td>\n",
              "      <td>6.0</td>\n",
              "      <td>6.0</td>\n",
              "      <td>9.0</td>\n",
              "      <td>7.0</td>\n",
              "      <td>5.0</td>\n",
              "      <td>6.0</td>\n",
              "      <td>7.0</td>\n",
              "      <td>11.0</td>\n",
              "      <td>7.0</td>\n",
              "      <td>10.0</td>\n",
              "      <td>13.0</td>\n",
              "      <td>14.0</td>\n",
              "      <td>8.0</td>\n",
              "      <td>9.0</td>\n",
              "      <td>1.0</td>\n",
              "      <td>3.0</td>\n",
              "      <td>3.0</td>\n",
              "      <td>3.0</td>\n",
              "      <td>1.0</td>\n",
              "      <td>7.0</td>\n",
              "      <td>8.0</td>\n",
              "      <td>7.0</td>\n",
              "      <td>18.0</td>\n",
              "      <td>14.0</td>\n",
              "      <td>10.0</td>\n",
              "      <td>15.0</td>\n",
              "      <td>14.0</td>\n",
              "      <td>16.0</td>\n",
              "      <td>9.0</td>\n",
              "      <td>4.0</td>\n",
              "      <td>11.0</td>\n",
              "      <td>7.0</td>\n",
              "      <td>8.0</td>\n",
              "      <td>7.0</td>\n",
              "      <td>...</td>\n",
              "      <td>189.0</td>\n",
              "      <td>187.0</td>\n",
              "      <td>187.0</td>\n",
              "      <td>188.0</td>\n",
              "      <td>184.0</td>\n",
              "      <td>179.0</td>\n",
              "      <td>178.0</td>\n",
              "      <td>175.0</td>\n",
              "      <td>168.0</td>\n",
              "      <td>162.0</td>\n",
              "      <td>161.0</td>\n",
              "      <td>26.0</td>\n",
              "      <td>62.0</td>\n",
              "      <td>82.0</td>\n",
              "      <td>90.0</td>\n",
              "      <td>78.0</td>\n",
              "      <td>37.0</td>\n",
              "      <td>38.0</td>\n",
              "      <td>184.0</td>\n",
              "      <td>186.0</td>\n",
              "      <td>194.0</td>\n",
              "      <td>191.0</td>\n",
              "      <td>202.0</td>\n",
              "      <td>200.0</td>\n",
              "      <td>195.0</td>\n",
              "      <td>195.0</td>\n",
              "      <td>193.0</td>\n",
              "      <td>188.0</td>\n",
              "      <td>188.0</td>\n",
              "      <td>183.0</td>\n",
              "      <td>183.0</td>\n",
              "      <td>184.0</td>\n",
              "      <td>181.0</td>\n",
              "      <td>178.0</td>\n",
              "      <td>179.0</td>\n",
              "      <td>174.0</td>\n",
              "      <td>168.0</td>\n",
              "      <td>163.0</td>\n",
              "      <td>154.0</td>\n",
              "      <td>0</td>\n",
              "    </tr>\n",
              "    <tr>\n",
              "      <th>2</th>\n",
              "      <td>177.0</td>\n",
              "      <td>136.0</td>\n",
              "      <td>115.0</td>\n",
              "      <td>81.0</td>\n",
              "      <td>68.0</td>\n",
              "      <td>53.0</td>\n",
              "      <td>75.0</td>\n",
              "      <td>77.0</td>\n",
              "      <td>64.0</td>\n",
              "      <td>59.0</td>\n",
              "      <td>47.0</td>\n",
              "      <td>36.0</td>\n",
              "      <td>68.0</td>\n",
              "      <td>66.0</td>\n",
              "      <td>52.0</td>\n",
              "      <td>43.0</td>\n",
              "      <td>36.0</td>\n",
              "      <td>38.0</td>\n",
              "      <td>46.0</td>\n",
              "      <td>37.0</td>\n",
              "      <td>40.0</td>\n",
              "      <td>34.0</td>\n",
              "      <td>45.0</td>\n",
              "      <td>48.0</td>\n",
              "      <td>45.0</td>\n",
              "      <td>39.0</td>\n",
              "      <td>44.0</td>\n",
              "      <td>45.0</td>\n",
              "      <td>156.0</td>\n",
              "      <td>134.0</td>\n",
              "      <td>96.0</td>\n",
              "      <td>62.0</td>\n",
              "      <td>59.0</td>\n",
              "      <td>67.0</td>\n",
              "      <td>104.0</td>\n",
              "      <td>51.0</td>\n",
              "      <td>46.0</td>\n",
              "      <td>47.0</td>\n",
              "      <td>43.0</td>\n",
              "      <td>71.0</td>\n",
              "      <td>...</td>\n",
              "      <td>142.0</td>\n",
              "      <td>139.0</td>\n",
              "      <td>135.0</td>\n",
              "      <td>133.0</td>\n",
              "      <td>124.0</td>\n",
              "      <td>108.0</td>\n",
              "      <td>76.0</td>\n",
              "      <td>108.0</td>\n",
              "      <td>109.0</td>\n",
              "      <td>99.0</td>\n",
              "      <td>88.0</td>\n",
              "      <td>248.0</td>\n",
              "      <td>250.0</td>\n",
              "      <td>247.0</td>\n",
              "      <td>225.0</td>\n",
              "      <td>184.0</td>\n",
              "      <td>213.0</td>\n",
              "      <td>147.0</td>\n",
              "      <td>51.0</td>\n",
              "      <td>51.0</td>\n",
              "      <td>201.0</td>\n",
              "      <td>192.0</td>\n",
              "      <td>187.0</td>\n",
              "      <td>177.0</td>\n",
              "      <td>165.0</td>\n",
              "      <td>156.0</td>\n",
              "      <td>152.0</td>\n",
              "      <td>145.0</td>\n",
              "      <td>142.0</td>\n",
              "      <td>135.0</td>\n",
              "      <td>134.0</td>\n",
              "      <td>122.0</td>\n",
              "      <td>99.0</td>\n",
              "      <td>90.0</td>\n",
              "      <td>114.0</td>\n",
              "      <td>115.0</td>\n",
              "      <td>108.0</td>\n",
              "      <td>107.0</td>\n",
              "      <td>94.0</td>\n",
              "      <td>0</td>\n",
              "    </tr>\n",
              "    <tr>\n",
              "      <th>3</th>\n",
              "      <td>106.0</td>\n",
              "      <td>53.0</td>\n",
              "      <td>12.0</td>\n",
              "      <td>9.0</td>\n",
              "      <td>19.0</td>\n",
              "      <td>11.0</td>\n",
              "      <td>10.0</td>\n",
              "      <td>9.0</td>\n",
              "      <td>11.0</td>\n",
              "      <td>11.0</td>\n",
              "      <td>13.0</td>\n",
              "      <td>13.0</td>\n",
              "      <td>13.0</td>\n",
              "      <td>9.0</td>\n",
              "      <td>6.0</td>\n",
              "      <td>18.0</td>\n",
              "      <td>12.0</td>\n",
              "      <td>14.0</td>\n",
              "      <td>11.0</td>\n",
              "      <td>6.0</td>\n",
              "      <td>13.0</td>\n",
              "      <td>11.0</td>\n",
              "      <td>18.0</td>\n",
              "      <td>13.0</td>\n",
              "      <td>24.0</td>\n",
              "      <td>14.0</td>\n",
              "      <td>8.0</td>\n",
              "      <td>16.0</td>\n",
              "      <td>87.0</td>\n",
              "      <td>15.0</td>\n",
              "      <td>15.0</td>\n",
              "      <td>19.0</td>\n",
              "      <td>16.0</td>\n",
              "      <td>14.0</td>\n",
              "      <td>10.0</td>\n",
              "      <td>5.0</td>\n",
              "      <td>5.0</td>\n",
              "      <td>9.0</td>\n",
              "      <td>8.0</td>\n",
              "      <td>12.0</td>\n",
              "      <td>...</td>\n",
              "      <td>98.0</td>\n",
              "      <td>66.0</td>\n",
              "      <td>48.0</td>\n",
              "      <td>32.0</td>\n",
              "      <td>43.0</td>\n",
              "      <td>47.0</td>\n",
              "      <td>53.0</td>\n",
              "      <td>69.0</td>\n",
              "      <td>70.0</td>\n",
              "      <td>81.0</td>\n",
              "      <td>7.0</td>\n",
              "      <td>136.0</td>\n",
              "      <td>112.0</td>\n",
              "      <td>84.0</td>\n",
              "      <td>63.0</td>\n",
              "      <td>14.0</td>\n",
              "      <td>74.0</td>\n",
              "      <td>176.0</td>\n",
              "      <td>221.0</td>\n",
              "      <td>146.0</td>\n",
              "      <td>135.0</td>\n",
              "      <td>158.0</td>\n",
              "      <td>165.0</td>\n",
              "      <td>147.0</td>\n",
              "      <td>126.0</td>\n",
              "      <td>89.0</td>\n",
              "      <td>58.0</td>\n",
              "      <td>47.0</td>\n",
              "      <td>36.0</td>\n",
              "      <td>26.0</td>\n",
              "      <td>48.0</td>\n",
              "      <td>73.0</td>\n",
              "      <td>92.0</td>\n",
              "      <td>112.0</td>\n",
              "      <td>120.0</td>\n",
              "      <td>91.0</td>\n",
              "      <td>75.0</td>\n",
              "      <td>28.0</td>\n",
              "      <td>178.0</td>\n",
              "      <td>0</td>\n",
              "    </tr>\n",
              "    <tr>\n",
              "      <th>4</th>\n",
              "      <td>23.0</td>\n",
              "      <td>20.0</td>\n",
              "      <td>27.0</td>\n",
              "      <td>35.0</td>\n",
              "      <td>36.0</td>\n",
              "      <td>34.0</td>\n",
              "      <td>37.0</td>\n",
              "      <td>46.0</td>\n",
              "      <td>52.0</td>\n",
              "      <td>46.0</td>\n",
              "      <td>40.0</td>\n",
              "      <td>44.0</td>\n",
              "      <td>52.0</td>\n",
              "      <td>61.0</td>\n",
              "      <td>87.0</td>\n",
              "      <td>106.0</td>\n",
              "      <td>119.0</td>\n",
              "      <td>126.0</td>\n",
              "      <td>134.0</td>\n",
              "      <td>155.0</td>\n",
              "      <td>162.0</td>\n",
              "      <td>153.0</td>\n",
              "      <td>148.0</td>\n",
              "      <td>108.0</td>\n",
              "      <td>68.0</td>\n",
              "      <td>83.0</td>\n",
              "      <td>108.0</td>\n",
              "      <td>105.0</td>\n",
              "      <td>31.0</td>\n",
              "      <td>47.0</td>\n",
              "      <td>57.0</td>\n",
              "      <td>49.0</td>\n",
              "      <td>37.0</td>\n",
              "      <td>37.0</td>\n",
              "      <td>57.0</td>\n",
              "      <td>65.0</td>\n",
              "      <td>63.0</td>\n",
              "      <td>67.0</td>\n",
              "      <td>73.0</td>\n",
              "      <td>79.0</td>\n",
              "      <td>...</td>\n",
              "      <td>36.0</td>\n",
              "      <td>48.0</td>\n",
              "      <td>70.0</td>\n",
              "      <td>92.0</td>\n",
              "      <td>87.0</td>\n",
              "      <td>93.0</td>\n",
              "      <td>104.0</td>\n",
              "      <td>108.0</td>\n",
              "      <td>102.0</td>\n",
              "      <td>136.0</td>\n",
              "      <td>196.0</td>\n",
              "      <td>96.0</td>\n",
              "      <td>98.0</td>\n",
              "      <td>96.0</td>\n",
              "      <td>94.0</td>\n",
              "      <td>96.0</td>\n",
              "      <td>87.0</td>\n",
              "      <td>78.0</td>\n",
              "      <td>92.0</td>\n",
              "      <td>85.0</td>\n",
              "      <td>86.0</td>\n",
              "      <td>73.0</td>\n",
              "      <td>50.0</td>\n",
              "      <td>71.0</td>\n",
              "      <td>80.0</td>\n",
              "      <td>74.0</td>\n",
              "      <td>82.0</td>\n",
              "      <td>76.0</td>\n",
              "      <td>78.0</td>\n",
              "      <td>91.0</td>\n",
              "      <td>97.0</td>\n",
              "      <td>107.0</td>\n",
              "      <td>98.0</td>\n",
              "      <td>96.0</td>\n",
              "      <td>113.0</td>\n",
              "      <td>87.0</td>\n",
              "      <td>64.0</td>\n",
              "      <td>79.0</td>\n",
              "      <td>113.0</td>\n",
              "      <td>0</td>\n",
              "    </tr>\n",
              "  </tbody>\n",
              "</table>\n",
              "<p>5 rows × 785 columns</p>\n",
              "</div>"
            ],
            "text/plain": [
              "       0      1      2     3     4  ...    780    781    782    783  Label\n",
              "0   46.0   47.0   41.0  41.0  37.0  ...   45.0   62.0   58.0   54.0      0\n",
              "1   15.0    6.0   15.0  10.0  19.0  ...  174.0  168.0  163.0  154.0      0\n",
              "2  177.0  136.0  115.0  81.0  68.0  ...  115.0  108.0  107.0   94.0      0\n",
              "3  106.0   53.0   12.0   9.0  19.0  ...   91.0   75.0   28.0  178.0      0\n",
              "4   23.0   20.0   27.0  35.0  36.0  ...   87.0   64.0   79.0  113.0      0\n",
              "\n",
              "[5 rows x 785 columns]"
            ]
          },
          "metadata": {
            "tags": []
          },
          "execution_count": 10
        }
      ]
    },
    {
      "cell_type": "markdown",
      "metadata": {
        "id": "23-yPp-gCWxi"
      },
      "source": [
        "# Data preprocessing"
      ]
    },
    {
      "cell_type": "markdown",
      "metadata": {
        "id": "ICYdKXj-BnEI"
      },
      "source": [
        "shuffle Data"
      ]
    },
    {
      "cell_type": "code",
      "metadata": {
        "id": "ScuVnsldBo_5"
      },
      "source": [
        "from sklearn.utils import shuffle\n",
        "df = shuffle(df)"
      ],
      "execution_count": null,
      "outputs": []
    },
    {
      "cell_type": "code",
      "metadata": {
        "id": "BXFRGnOiBu1i"
      },
      "source": [
        "col = df.columns\n",
        "X_Data = df[col[:-1]]\n",
        "Y_Data = df[col[-1]]"
      ],
      "execution_count": null,
      "outputs": []
    },
    {
      "cell_type": "markdown",
      "metadata": {
        "id": "--4lb7mbHjLJ"
      },
      "source": [
        "Normal Data"
      ]
    },
    {
      "cell_type": "code",
      "metadata": {
        "id": "leYG0UPbHoVg"
      },
      "source": [
        "X_train , X_ , Y_train , Y_ = train_test_split(X_Data, Y_Data, test_size=0.5, random_state=12)\n",
        "X_test , X_val , Y_test , Y_val = train_test_split(X_, Y_, test_size=0.5, random_state=12)"
      ],
      "execution_count": null,
      "outputs": []
    },
    {
      "cell_type": "markdown",
      "metadata": {
        "id": "mpL4-OeKA3d_"
      },
      "source": [
        "Standardize Data"
      ]
    },
    {
      "cell_type": "code",
      "metadata": {
        "id": "fCRaDYFX_Pq4"
      },
      "source": [
        "X_scandard = StandardScaler().fit_transform(X_Data)\n",
        "\n",
        "X_train_std , X_m , Y_train_std , Y_m = train_test_split(X_scandard, Y_Data, test_size=0.5, random_state=12)\n",
        "X_test_std , X_val_std , Y_test_std , Y_val_std = train_test_split(X_m, Y_m, test_size=0.5, random_state=12)"
      ],
      "execution_count": null,
      "outputs": []
    },
    {
      "cell_type": "markdown",
      "metadata": {
        "id": "k1jQ39XYF6m3"
      },
      "source": [
        "Dimensionality Reduction"
      ]
    },
    {
      "cell_type": "code",
      "metadata": {
        "id": "K10-277kCDPS"
      },
      "source": [
        "lda = LDA()\n",
        "lda_data = lda.fit_transform(X_Data, Y_Data)\n",
        "X_train_lda, X_m_lda, Y_train_lda, Y_m_lda = train_test_split(lda_data, Y_Data, test_size=0.5, random_state=12)\n",
        "X_test_lda , X_val_lda , Y_test_lda , Y_val_lda = train_test_split(X_m_lda, Y_m_lda, test_size=0.5, random_state=12)"
      ],
      "execution_count": null,
      "outputs": []
    },
    {
      "cell_type": "markdown",
      "metadata": {
        "id": "Rn5E2MJYvPg2"
      },
      "source": [
        "# Test Cases"
      ]
    },
    {
      "cell_type": "code",
      "metadata": {
        "colab": {
          "base_uri": "https://localhost:8080/",
          "height": 244
        },
        "id": "j6h6vErs0dcy",
        "outputId": "a4da1e9c-dc34-4bfe-ead9-0892547ae35b"
      },
      "source": [
        "X_test.head()"
      ],
      "execution_count": null,
      "outputs": [
        {
          "output_type": "execute_result",
          "data": {
            "text/html": [
              "<div>\n",
              "<style scoped>\n",
              "    .dataframe tbody tr th:only-of-type {\n",
              "        vertical-align: middle;\n",
              "    }\n",
              "\n",
              "    .dataframe tbody tr th {\n",
              "        vertical-align: top;\n",
              "    }\n",
              "\n",
              "    .dataframe thead th {\n",
              "        text-align: right;\n",
              "    }\n",
              "</style>\n",
              "<table border=\"1\" class=\"dataframe\">\n",
              "  <thead>\n",
              "    <tr style=\"text-align: right;\">\n",
              "      <th></th>\n",
              "      <th>0</th>\n",
              "      <th>1</th>\n",
              "      <th>2</th>\n",
              "      <th>3</th>\n",
              "      <th>4</th>\n",
              "      <th>5</th>\n",
              "      <th>6</th>\n",
              "      <th>7</th>\n",
              "      <th>8</th>\n",
              "      <th>9</th>\n",
              "      <th>10</th>\n",
              "      <th>11</th>\n",
              "      <th>12</th>\n",
              "      <th>13</th>\n",
              "      <th>14</th>\n",
              "      <th>15</th>\n",
              "      <th>16</th>\n",
              "      <th>17</th>\n",
              "      <th>18</th>\n",
              "      <th>19</th>\n",
              "      <th>20</th>\n",
              "      <th>21</th>\n",
              "      <th>22</th>\n",
              "      <th>23</th>\n",
              "      <th>24</th>\n",
              "      <th>25</th>\n",
              "      <th>26</th>\n",
              "      <th>27</th>\n",
              "      <th>28</th>\n",
              "      <th>29</th>\n",
              "      <th>30</th>\n",
              "      <th>31</th>\n",
              "      <th>32</th>\n",
              "      <th>33</th>\n",
              "      <th>34</th>\n",
              "      <th>35</th>\n",
              "      <th>36</th>\n",
              "      <th>37</th>\n",
              "      <th>38</th>\n",
              "      <th>39</th>\n",
              "      <th>...</th>\n",
              "      <th>744</th>\n",
              "      <th>745</th>\n",
              "      <th>746</th>\n",
              "      <th>747</th>\n",
              "      <th>748</th>\n",
              "      <th>749</th>\n",
              "      <th>750</th>\n",
              "      <th>751</th>\n",
              "      <th>752</th>\n",
              "      <th>753</th>\n",
              "      <th>754</th>\n",
              "      <th>755</th>\n",
              "      <th>756</th>\n",
              "      <th>757</th>\n",
              "      <th>758</th>\n",
              "      <th>759</th>\n",
              "      <th>760</th>\n",
              "      <th>761</th>\n",
              "      <th>762</th>\n",
              "      <th>763</th>\n",
              "      <th>764</th>\n",
              "      <th>765</th>\n",
              "      <th>766</th>\n",
              "      <th>767</th>\n",
              "      <th>768</th>\n",
              "      <th>769</th>\n",
              "      <th>770</th>\n",
              "      <th>771</th>\n",
              "      <th>772</th>\n",
              "      <th>773</th>\n",
              "      <th>774</th>\n",
              "      <th>775</th>\n",
              "      <th>776</th>\n",
              "      <th>777</th>\n",
              "      <th>778</th>\n",
              "      <th>779</th>\n",
              "      <th>780</th>\n",
              "      <th>781</th>\n",
              "      <th>782</th>\n",
              "      <th>783</th>\n",
              "    </tr>\n",
              "  </thead>\n",
              "  <tbody>\n",
              "    <tr>\n",
              "      <th>2357</th>\n",
              "      <td>67.0</td>\n",
              "      <td>126.0</td>\n",
              "      <td>150.0</td>\n",
              "      <td>151.0</td>\n",
              "      <td>78.0</td>\n",
              "      <td>78.0</td>\n",
              "      <td>67.0</td>\n",
              "      <td>114.0</td>\n",
              "      <td>160.0</td>\n",
              "      <td>166.0</td>\n",
              "      <td>170.0</td>\n",
              "      <td>138.0</td>\n",
              "      <td>159.0</td>\n",
              "      <td>144.0</td>\n",
              "      <td>100.0</td>\n",
              "      <td>88.0</td>\n",
              "      <td>76.0</td>\n",
              "      <td>73.0</td>\n",
              "      <td>68.0</td>\n",
              "      <td>62.0</td>\n",
              "      <td>58.0</td>\n",
              "      <td>50.0</td>\n",
              "      <td>45.0</td>\n",
              "      <td>43.0</td>\n",
              "      <td>38.0</td>\n",
              "      <td>37.0</td>\n",
              "      <td>34.0</td>\n",
              "      <td>59.0</td>\n",
              "      <td>121.0</td>\n",
              "      <td>156.0</td>\n",
              "      <td>162.0</td>\n",
              "      <td>166.0</td>\n",
              "      <td>83.0</td>\n",
              "      <td>74.0</td>\n",
              "      <td>56.0</td>\n",
              "      <td>138.0</td>\n",
              "      <td>174.0</td>\n",
              "      <td>183.0</td>\n",
              "      <td>186.0</td>\n",
              "      <td>150.0</td>\n",
              "      <td>...</td>\n",
              "      <td>187.0</td>\n",
              "      <td>187.0</td>\n",
              "      <td>184.0</td>\n",
              "      <td>174.0</td>\n",
              "      <td>176.0</td>\n",
              "      <td>167.0</td>\n",
              "      <td>154.0</td>\n",
              "      <td>158.0</td>\n",
              "      <td>127.0</td>\n",
              "      <td>125.0</td>\n",
              "      <td>92.0</td>\n",
              "      <td>45.0</td>\n",
              "      <td>71.0</td>\n",
              "      <td>48.0</td>\n",
              "      <td>36.0</td>\n",
              "      <td>81.0</td>\n",
              "      <td>52.0</td>\n",
              "      <td>136.0</td>\n",
              "      <td>160.0</td>\n",
              "      <td>163.0</td>\n",
              "      <td>165.0</td>\n",
              "      <td>163.0</td>\n",
              "      <td>160.0</td>\n",
              "      <td>158.0</td>\n",
              "      <td>162.0</td>\n",
              "      <td>172.0</td>\n",
              "      <td>189.0</td>\n",
              "      <td>180.0</td>\n",
              "      <td>175.0</td>\n",
              "      <td>168.0</td>\n",
              "      <td>159.0</td>\n",
              "      <td>152.0</td>\n",
              "      <td>157.0</td>\n",
              "      <td>145.0</td>\n",
              "      <td>119.0</td>\n",
              "      <td>91.0</td>\n",
              "      <td>122.0</td>\n",
              "      <td>127.0</td>\n",
              "      <td>66.0</td>\n",
              "      <td>47.0</td>\n",
              "    </tr>\n",
              "    <tr>\n",
              "      <th>415</th>\n",
              "      <td>15.0</td>\n",
              "      <td>19.0</td>\n",
              "      <td>30.0</td>\n",
              "      <td>34.0</td>\n",
              "      <td>29.0</td>\n",
              "      <td>33.0</td>\n",
              "      <td>49.0</td>\n",
              "      <td>39.0</td>\n",
              "      <td>36.0</td>\n",
              "      <td>45.0</td>\n",
              "      <td>30.0</td>\n",
              "      <td>41.0</td>\n",
              "      <td>52.0</td>\n",
              "      <td>34.0</td>\n",
              "      <td>66.0</td>\n",
              "      <td>41.0</td>\n",
              "      <td>39.0</td>\n",
              "      <td>58.0</td>\n",
              "      <td>33.0</td>\n",
              "      <td>66.0</td>\n",
              "      <td>33.0</td>\n",
              "      <td>31.0</td>\n",
              "      <td>40.0</td>\n",
              "      <td>30.0</td>\n",
              "      <td>23.0</td>\n",
              "      <td>38.0</td>\n",
              "      <td>52.0</td>\n",
              "      <td>62.0</td>\n",
              "      <td>23.0</td>\n",
              "      <td>22.0</td>\n",
              "      <td>30.0</td>\n",
              "      <td>26.0</td>\n",
              "      <td>21.0</td>\n",
              "      <td>18.0</td>\n",
              "      <td>40.0</td>\n",
              "      <td>33.0</td>\n",
              "      <td>25.0</td>\n",
              "      <td>22.0</td>\n",
              "      <td>25.0</td>\n",
              "      <td>31.0</td>\n",
              "      <td>...</td>\n",
              "      <td>126.0</td>\n",
              "      <td>100.0</td>\n",
              "      <td>86.0</td>\n",
              "      <td>90.0</td>\n",
              "      <td>87.0</td>\n",
              "      <td>83.0</td>\n",
              "      <td>89.0</td>\n",
              "      <td>105.0</td>\n",
              "      <td>106.0</td>\n",
              "      <td>113.0</td>\n",
              "      <td>112.0</td>\n",
              "      <td>114.0</td>\n",
              "      <td>10.0</td>\n",
              "      <td>9.0</td>\n",
              "      <td>10.0</td>\n",
              "      <td>10.0</td>\n",
              "      <td>9.0</td>\n",
              "      <td>8.0</td>\n",
              "      <td>6.0</td>\n",
              "      <td>9.0</td>\n",
              "      <td>19.0</td>\n",
              "      <td>140.0</td>\n",
              "      <td>141.0</td>\n",
              "      <td>141.0</td>\n",
              "      <td>125.0</td>\n",
              "      <td>128.0</td>\n",
              "      <td>133.0</td>\n",
              "      <td>131.0</td>\n",
              "      <td>141.0</td>\n",
              "      <td>142.0</td>\n",
              "      <td>131.0</td>\n",
              "      <td>106.0</td>\n",
              "      <td>94.0</td>\n",
              "      <td>91.0</td>\n",
              "      <td>105.0</td>\n",
              "      <td>112.0</td>\n",
              "      <td>113.0</td>\n",
              "      <td>111.0</td>\n",
              "      <td>113.0</td>\n",
              "      <td>115.0</td>\n",
              "    </tr>\n",
              "    <tr>\n",
              "      <th>299</th>\n",
              "      <td>25.0</td>\n",
              "      <td>30.0</td>\n",
              "      <td>36.0</td>\n",
              "      <td>48.0</td>\n",
              "      <td>51.0</td>\n",
              "      <td>41.0</td>\n",
              "      <td>30.0</td>\n",
              "      <td>43.0</td>\n",
              "      <td>42.0</td>\n",
              "      <td>37.0</td>\n",
              "      <td>20.0</td>\n",
              "      <td>36.0</td>\n",
              "      <td>44.0</td>\n",
              "      <td>28.0</td>\n",
              "      <td>11.0</td>\n",
              "      <td>12.0</td>\n",
              "      <td>6.0</td>\n",
              "      <td>9.0</td>\n",
              "      <td>12.0</td>\n",
              "      <td>5.0</td>\n",
              "      <td>14.0</td>\n",
              "      <td>13.0</td>\n",
              "      <td>22.0</td>\n",
              "      <td>37.0</td>\n",
              "      <td>36.0</td>\n",
              "      <td>27.0</td>\n",
              "      <td>23.0</td>\n",
              "      <td>19.0</td>\n",
              "      <td>28.0</td>\n",
              "      <td>36.0</td>\n",
              "      <td>29.0</td>\n",
              "      <td>42.0</td>\n",
              "      <td>50.0</td>\n",
              "      <td>48.0</td>\n",
              "      <td>32.0</td>\n",
              "      <td>28.0</td>\n",
              "      <td>25.0</td>\n",
              "      <td>24.0</td>\n",
              "      <td>31.0</td>\n",
              "      <td>49.0</td>\n",
              "      <td>...</td>\n",
              "      <td>218.0</td>\n",
              "      <td>220.0</td>\n",
              "      <td>212.0</td>\n",
              "      <td>206.0</td>\n",
              "      <td>192.0</td>\n",
              "      <td>153.0</td>\n",
              "      <td>75.0</td>\n",
              "      <td>6.0</td>\n",
              "      <td>5.0</td>\n",
              "      <td>4.0</td>\n",
              "      <td>1.0</td>\n",
              "      <td>2.0</td>\n",
              "      <td>7.0</td>\n",
              "      <td>0.0</td>\n",
              "      <td>5.0</td>\n",
              "      <td>88.0</td>\n",
              "      <td>163.0</td>\n",
              "      <td>162.0</td>\n",
              "      <td>148.0</td>\n",
              "      <td>138.0</td>\n",
              "      <td>145.0</td>\n",
              "      <td>158.0</td>\n",
              "      <td>167.0</td>\n",
              "      <td>187.0</td>\n",
              "      <td>204.0</td>\n",
              "      <td>213.0</td>\n",
              "      <td>221.0</td>\n",
              "      <td>222.0</td>\n",
              "      <td>216.0</td>\n",
              "      <td>214.0</td>\n",
              "      <td>202.0</td>\n",
              "      <td>190.0</td>\n",
              "      <td>147.0</td>\n",
              "      <td>93.0</td>\n",
              "      <td>15.0</td>\n",
              "      <td>4.0</td>\n",
              "      <td>2.0</td>\n",
              "      <td>0.0</td>\n",
              "      <td>0.0</td>\n",
              "      <td>1.0</td>\n",
              "    </tr>\n",
              "    <tr>\n",
              "      <th>1537</th>\n",
              "      <td>40.0</td>\n",
              "      <td>41.0</td>\n",
              "      <td>39.0</td>\n",
              "      <td>38.0</td>\n",
              "      <td>39.0</td>\n",
              "      <td>38.0</td>\n",
              "      <td>37.0</td>\n",
              "      <td>36.0</td>\n",
              "      <td>38.0</td>\n",
              "      <td>38.0</td>\n",
              "      <td>36.0</td>\n",
              "      <td>37.0</td>\n",
              "      <td>42.0</td>\n",
              "      <td>34.0</td>\n",
              "      <td>40.0</td>\n",
              "      <td>43.0</td>\n",
              "      <td>43.0</td>\n",
              "      <td>44.0</td>\n",
              "      <td>57.0</td>\n",
              "      <td>46.0</td>\n",
              "      <td>39.0</td>\n",
              "      <td>42.0</td>\n",
              "      <td>46.0</td>\n",
              "      <td>55.0</td>\n",
              "      <td>55.0</td>\n",
              "      <td>49.0</td>\n",
              "      <td>43.0</td>\n",
              "      <td>39.0</td>\n",
              "      <td>40.0</td>\n",
              "      <td>42.0</td>\n",
              "      <td>41.0</td>\n",
              "      <td>42.0</td>\n",
              "      <td>42.0</td>\n",
              "      <td>36.0</td>\n",
              "      <td>38.0</td>\n",
              "      <td>77.0</td>\n",
              "      <td>91.0</td>\n",
              "      <td>129.0</td>\n",
              "      <td>105.0</td>\n",
              "      <td>92.0</td>\n",
              "      <td>...</td>\n",
              "      <td>215.0</td>\n",
              "      <td>207.0</td>\n",
              "      <td>206.0</td>\n",
              "      <td>186.0</td>\n",
              "      <td>135.0</td>\n",
              "      <td>142.0</td>\n",
              "      <td>165.0</td>\n",
              "      <td>178.0</td>\n",
              "      <td>195.0</td>\n",
              "      <td>50.0</td>\n",
              "      <td>43.0</td>\n",
              "      <td>143.0</td>\n",
              "      <td>237.0</td>\n",
              "      <td>235.0</td>\n",
              "      <td>228.0</td>\n",
              "      <td>213.0</td>\n",
              "      <td>183.0</td>\n",
              "      <td>99.0</td>\n",
              "      <td>234.0</td>\n",
              "      <td>183.0</td>\n",
              "      <td>145.0</td>\n",
              "      <td>110.0</td>\n",
              "      <td>138.0</td>\n",
              "      <td>171.0</td>\n",
              "      <td>181.0</td>\n",
              "      <td>189.0</td>\n",
              "      <td>190.0</td>\n",
              "      <td>191.0</td>\n",
              "      <td>191.0</td>\n",
              "      <td>172.0</td>\n",
              "      <td>129.0</td>\n",
              "      <td>131.0</td>\n",
              "      <td>177.0</td>\n",
              "      <td>222.0</td>\n",
              "      <td>241.0</td>\n",
              "      <td>149.0</td>\n",
              "      <td>48.0</td>\n",
              "      <td>45.0</td>\n",
              "      <td>45.0</td>\n",
              "      <td>82.0</td>\n",
              "    </tr>\n",
              "    <tr>\n",
              "      <th>3504</th>\n",
              "      <td>83.0</td>\n",
              "      <td>84.0</td>\n",
              "      <td>81.0</td>\n",
              "      <td>76.0</td>\n",
              "      <td>56.0</td>\n",
              "      <td>36.0</td>\n",
              "      <td>73.0</td>\n",
              "      <td>243.0</td>\n",
              "      <td>236.0</td>\n",
              "      <td>249.0</td>\n",
              "      <td>251.0</td>\n",
              "      <td>253.0</td>\n",
              "      <td>254.0</td>\n",
              "      <td>254.0</td>\n",
              "      <td>252.0</td>\n",
              "      <td>252.0</td>\n",
              "      <td>252.0</td>\n",
              "      <td>251.0</td>\n",
              "      <td>246.0</td>\n",
              "      <td>244.0</td>\n",
              "      <td>237.0</td>\n",
              "      <td>197.0</td>\n",
              "      <td>131.0</td>\n",
              "      <td>64.0</td>\n",
              "      <td>55.0</td>\n",
              "      <td>116.0</td>\n",
              "      <td>106.0</td>\n",
              "      <td>147.0</td>\n",
              "      <td>84.0</td>\n",
              "      <td>81.0</td>\n",
              "      <td>87.0</td>\n",
              "      <td>41.0</td>\n",
              "      <td>38.0</td>\n",
              "      <td>195.0</td>\n",
              "      <td>246.0</td>\n",
              "      <td>249.0</td>\n",
              "      <td>250.0</td>\n",
              "      <td>247.0</td>\n",
              "      <td>254.0</td>\n",
              "      <td>254.0</td>\n",
              "      <td>...</td>\n",
              "      <td>53.0</td>\n",
              "      <td>57.0</td>\n",
              "      <td>93.0</td>\n",
              "      <td>123.0</td>\n",
              "      <td>114.0</td>\n",
              "      <td>115.0</td>\n",
              "      <td>101.0</td>\n",
              "      <td>70.0</td>\n",
              "      <td>5.0</td>\n",
              "      <td>5.0</td>\n",
              "      <td>4.0</td>\n",
              "      <td>12.0</td>\n",
              "      <td>49.0</td>\n",
              "      <td>122.0</td>\n",
              "      <td>159.0</td>\n",
              "      <td>163.0</td>\n",
              "      <td>137.0</td>\n",
              "      <td>108.0</td>\n",
              "      <td>98.0</td>\n",
              "      <td>102.0</td>\n",
              "      <td>112.0</td>\n",
              "      <td>122.0</td>\n",
              "      <td>134.0</td>\n",
              "      <td>143.0</td>\n",
              "      <td>161.0</td>\n",
              "      <td>168.0</td>\n",
              "      <td>171.0</td>\n",
              "      <td>163.0</td>\n",
              "      <td>157.0</td>\n",
              "      <td>149.0</td>\n",
              "      <td>147.0</td>\n",
              "      <td>132.0</td>\n",
              "      <td>131.0</td>\n",
              "      <td>120.0</td>\n",
              "      <td>102.0</td>\n",
              "      <td>32.0</td>\n",
              "      <td>5.0</td>\n",
              "      <td>1.0</td>\n",
              "      <td>10.0</td>\n",
              "      <td>47.0</td>\n",
              "    </tr>\n",
              "  </tbody>\n",
              "</table>\n",
              "<p>5 rows × 784 columns</p>\n",
              "</div>"
            ],
            "text/plain": [
              "       0      1      2      3     4    ...    779    780    781    782    783\n",
              "2357  67.0  126.0  150.0  151.0  78.0  ...   91.0  122.0  127.0   66.0   47.0\n",
              "415   15.0   19.0   30.0   34.0  29.0  ...  112.0  113.0  111.0  113.0  115.0\n",
              "299   25.0   30.0   36.0   48.0  51.0  ...    4.0    2.0    0.0    0.0    1.0\n",
              "1537  40.0   41.0   39.0   38.0  39.0  ...  149.0   48.0   45.0   45.0   82.0\n",
              "3504  83.0   84.0   81.0   76.0  56.0  ...   32.0    5.0    1.0   10.0   47.0\n",
              "\n",
              "[5 rows x 784 columns]"
            ]
          },
          "metadata": {
            "tags": []
          },
          "execution_count": 19
        }
      ]
    },
    {
      "cell_type": "code",
      "metadata": {
        "colab": {
          "base_uri": "https://localhost:8080/"
        },
        "id": "99alAGQEwRxB",
        "outputId": "45141cff-f67c-4a63-e454-21d29f643629"
      },
      "source": [
        "print('True Label of \\n1. test case 25: ' , Y_test.iloc[25] , '\\n2. test case 56: ' , Y_test.iloc[56] , '\\n3. test case 100: ' , Y_test.iloc[100])\n",
        "Y_true = [Y_test.iloc[25] , Y_test.iloc[56] , Y_test.iloc[100]]"
      ],
      "execution_count": null,
      "outputs": [
        {
          "output_type": "stream",
          "text": [
            "True Label of \n",
            "1. test case 25:  1 \n",
            "2. test case 56:  0 \n",
            "3. test case 100:  1\n"
          ],
          "name": "stdout"
        }
      ]
    },
    {
      "cell_type": "code",
      "metadata": {
        "id": "iXsy8JTavR7a"
      },
      "source": [
        "X_test_1 = X_test.iloc[25]\n",
        "X_test_2 = X_test.iloc[56]\n",
        "X_test_3 = X_test.iloc[100]\n",
        "\n",
        "X_test_n_case = [X_test_1 , X_test_2 , X_test_3]"
      ],
      "execution_count": null,
      "outputs": []
    },
    {
      "cell_type": "code",
      "metadata": {
        "id": "od9lsTR8vR99"
      },
      "source": [
        "X_test_1_std = X_test_std[25]\n",
        "X_test_2_std = X_test_std[56]\n",
        "X_test_3_std = X_test_std[100]\n",
        "\n",
        "X_test_std_case = [X_test_1_std , X_test_2_std , X_test_3_std]"
      ],
      "execution_count": null,
      "outputs": []
    },
    {
      "cell_type": "code",
      "metadata": {
        "id": "R-2jTPenvSBS"
      },
      "source": [
        "X_test_1_lda = X_test_lda[25]\n",
        "X_test_2_lda = X_test_lda[56]\n",
        "X_test_3_lda = X_test_lda[100]\n",
        "\n",
        "X_test_lda_case = [X_test_1_lda , X_test_2_lda , X_test_3_lda]"
      ],
      "execution_count": null,
      "outputs": []
    },
    {
      "cell_type": "markdown",
      "metadata": {
        "id": "2bXb80TxiQv8"
      },
      "source": [
        "# Random Forest"
      ]
    },
    {
      "cell_type": "markdown",
      "metadata": {
        "id": "wCRSWZjdiUh9"
      },
      "source": [
        "rf on Normal data"
      ]
    },
    {
      "cell_type": "code",
      "metadata": {
        "id": "0s7ySTbKiUh9"
      },
      "source": [
        "rf_n = RandomForestClassifier(max_depth=2, random_state=0).fit(X_train, Y_train)\n",
        "Y_pred_n_rf = rf_n.predict(X_test)"
      ],
      "execution_count": null,
      "outputs": []
    },
    {
      "cell_type": "code",
      "metadata": {
        "colab": {
          "base_uri": "https://localhost:8080/"
        },
        "id": "hxES7046iUiJ",
        "outputId": "04771fd7-4ddc-4247-e8a3-143f48324ff6"
      },
      "source": [
        "print('For Random Forest on normal Data -')\n",
        "print(\"The Precision :\", precision_score(Y_test, Y_pred_n_rf))\n",
        "print(\"The Recall :\", recall_score(Y_test, Y_pred_n_rf))\n",
        "print(\"The F1 score :\", f1_score(Y_test, Y_pred_n_rf))\n",
        "print(\"The Accuracy :\", accuracy_score(Y_test, Y_pred_n_rf))\n",
        "print(\"\\nConfusion matrix :\")\n",
        "print( confusion_matrix(Y_test,Y_pred_n_rf))\n",
        "print('\\nClassification report : ')\n",
        "print(classification_report(Y_test, Y_pred_n_rf))"
      ],
      "execution_count": null,
      "outputs": [
        {
          "output_type": "stream",
          "text": [
            "For Random Forest on normal Data -\n",
            "The Precision : 0.8918269230769231\n",
            "The Recall : 0.6782449725776966\n",
            "The F1 score : 0.7705088265835929\n",
            "The Accuracy : 0.7992733878292462\n",
            "\n",
            "Confusion matrix :\n",
            "[[509  45]\n",
            " [176 371]]\n",
            "\n",
            "Classification report : \n",
            "              precision    recall  f1-score   support\n",
            "\n",
            "           0       0.74      0.92      0.82       554\n",
            "           1       0.89      0.68      0.77       547\n",
            "\n",
            "    accuracy                           0.80      1101\n",
            "   macro avg       0.82      0.80      0.80      1101\n",
            "weighted avg       0.82      0.80      0.80      1101\n",
            "\n"
          ],
          "name": "stdout"
        }
      ]
    },
    {
      "cell_type": "code",
      "metadata": {
        "colab": {
          "base_uri": "https://localhost:8080/"
        },
        "id": "dkngwtlFiUiK",
        "outputId": "bfccda79-13d6-49d2-ea61-ac882800bd18"
      },
      "source": [
        "csv_rf_n = cross_val_score(rf_n,X_val, Y_val, cv=5)\n",
        "\n",
        "print('Cross validation score: ' , csv_rf_n)\n",
        "print('Mean csv score: ' , np.mean(csv_rf_n))\n",
        "print('Standard deviation of csv score: ' , np.std(csv_rf_n))"
      ],
      "execution_count": null,
      "outputs": [
        {
          "output_type": "stream",
          "text": [
            "Cross validation score:  [0.8280543  0.78733032 0.76363636 0.82727273 0.82727273]\n",
            "Mean csv score:  0.8067132867132868\n",
            "Standard deviation of csv score:  0.026578716331224127\n"
          ],
          "name": "stdout"
        }
      ]
    },
    {
      "cell_type": "code",
      "metadata": {
        "colab": {
          "base_uri": "https://localhost:8080/"
        },
        "id": "zoDKJCelyNwQ",
        "outputId": "b380e090-92f7-4d1f-fe9e-0152b1391b0e"
      },
      "source": [
        "Y_pred_case_rf_n = rf_n.predict(X_test_n_case)\n",
        "print('Predicted cases for Random Forest on normal Data: ' , Y_pred_case_rf_n)"
      ],
      "execution_count": null,
      "outputs": [
        {
          "output_type": "stream",
          "text": [
            "Predicted cases for Random Forest on normal Data:  [1, 0, 0]\n"
          ],
          "name": "stdout"
        }
      ]
    },
    {
      "cell_type": "markdown",
      "metadata": {
        "id": "IPaId6KqiUiK"
      },
      "source": [
        "rf on Standardized data"
      ]
    },
    {
      "cell_type": "code",
      "metadata": {
        "id": "-V9Wm2_ZiUiL"
      },
      "source": [
        "rf_og = RandomForestClassifier(max_depth=2, random_state=0).fit(X_train_std, Y_train_std)\n",
        "Y_pred_og_rf = rf_og.predict(X_test_std)"
      ],
      "execution_count": null,
      "outputs": []
    },
    {
      "cell_type": "code",
      "metadata": {
        "colab": {
          "base_uri": "https://localhost:8080/"
        },
        "id": "7gSoSICMiUiL",
        "outputId": "18eb9586-ca62-491d-e1dc-d684d9b7ebb1"
      },
      "source": [
        "print('For Random Forest on standard Data -')\n",
        "print(\"The Precision :\", precision_score(Y_test_std, Y_pred_og_rf))\n",
        "print(\"The Recall :\", recall_score(Y_test_std, Y_pred_og_rf))\n",
        "print(\"The F1 score :\", f1_score(Y_test_std, Y_pred_og_rf))\n",
        "print(\"The Accuracy :\", accuracy_score(Y_test_std, Y_pred_og_rf))\n",
        "print(\"\\nConfusion matrix :\")\n",
        "print( confusion_matrix(Y_test_std,Y_pred_og_rf))\n",
        "print('\\nClassification report : ')\n",
        "print(classification_report(Y_test_std, Y_pred_og_rf))"
      ],
      "execution_count": null,
      "outputs": [
        {
          "output_type": "stream",
          "text": [
            "For Random Forest on standard Data -\n",
            "The Precision : 0.8918269230769231\n",
            "The Recall : 0.6782449725776966\n",
            "The F1 score : 0.7705088265835929\n",
            "The Accuracy : 0.7992733878292462\n",
            "\n",
            "Confusion matrix :\n",
            "[[509  45]\n",
            " [176 371]]\n",
            "\n",
            "Classification report : \n",
            "              precision    recall  f1-score   support\n",
            "\n",
            "           0       0.74      0.92      0.82       554\n",
            "           1       0.89      0.68      0.77       547\n",
            "\n",
            "    accuracy                           0.80      1101\n",
            "   macro avg       0.82      0.80      0.80      1101\n",
            "weighted avg       0.82      0.80      0.80      1101\n",
            "\n"
          ],
          "name": "stdout"
        }
      ]
    },
    {
      "cell_type": "code",
      "metadata": {
        "colab": {
          "base_uri": "https://localhost:8080/"
        },
        "id": "69PmC20YiUiL",
        "outputId": "c162bdb5-240d-47da-a509-d009324c9bec"
      },
      "source": [
        "csv_rf_s = cross_val_score(rf_og,X_val_std, Y_val_std, cv=5)\n",
        "\n",
        "print('Cross validation score: ' , csv_rf_s)\n",
        "print('Mean csv score: ' , np.mean(csv_rf_s))\n",
        "print('Standard deviation of csv score: ' , np.std(csv_rf_s))"
      ],
      "execution_count": null,
      "outputs": [
        {
          "output_type": "stream",
          "text": [
            "Cross validation score:  [0.8280543  0.78733032 0.76363636 0.82727273 0.82727273]\n",
            "Mean csv score:  0.8067132867132868\n",
            "Standard deviation of csv score:  0.026578716331224127\n"
          ],
          "name": "stdout"
        }
      ]
    },
    {
      "cell_type": "code",
      "metadata": {
        "colab": {
          "base_uri": "https://localhost:8080/"
        },
        "id": "speCf0ilyVGq",
        "outputId": "df0363da-ff05-4f40-a12d-cddaa43ecd47"
      },
      "source": [
        "Y_pred_case_rf_std = rf_og.predict(X_test_std_case)\n",
        "print('Predicted cases for Random Forest on standard Data: ' , Y_pred_case_rf_std)"
      ],
      "execution_count": null,
      "outputs": [
        {
          "output_type": "stream",
          "text": [
            "Predicted cases for Random Forest on standard Data:  [1, 0, 0]\n"
          ],
          "name": "stdout"
        }
      ]
    },
    {
      "cell_type": "markdown",
      "metadata": {
        "id": "8CPNbIMLiUiM"
      },
      "source": [
        "rf By dimensionality reduction\n"
      ]
    },
    {
      "cell_type": "code",
      "metadata": {
        "id": "_FC1LZefiUiM"
      },
      "source": [
        "rf_dim = RandomForestClassifier(max_depth=2, random_state=0).fit(X_train_lda , Y_train_lda)\n",
        "Y_pred_dim_rf = rf_dim.predict(X_test_lda)"
      ],
      "execution_count": null,
      "outputs": []
    },
    {
      "cell_type": "code",
      "metadata": {
        "colab": {
          "base_uri": "https://localhost:8080/"
        },
        "id": "xNErV7u0iUiM",
        "outputId": "f1834439-af90-4613-8487-190cb9ccd337"
      },
      "source": [
        "print('For Random Forest on dimensionaly reduced Data -')\n",
        "print(\"The Precision :\", precision_score(Y_test_std, Y_pred_dim_rf))\n",
        "print(\"The Recall :\", recall_score(Y_test_std, Y_pred_dim_rf))\n",
        "print(\"The F1 score :\", f1_score(Y_test_std, Y_pred_dim_rf))\n",
        "print(\"The Accuracy :\", accuracy_score(Y_test_std, Y_pred_dim_rf))\n",
        "print(\"\\nConfusion matrix :\")\n",
        "print( confusion_matrix(Y_test_std,Y_pred_dim_rf))\n",
        "print('\\nClassification report : ')\n",
        "print(classification_report(Y_test_std, Y_pred_dim_rf))"
      ],
      "execution_count": null,
      "outputs": [
        {
          "output_type": "stream",
          "text": [
            "For Random Forest on dimensionaly reduced Data -\n",
            "The Precision : 0.8301886792452831\n",
            "The Recall : 0.8848263254113345\n",
            "The F1 score : 0.856637168141593\n",
            "The Accuracy : 0.8528610354223434\n",
            "\n",
            "Confusion matrix :\n",
            "[[455  99]\n",
            " [ 63 484]]\n",
            "\n",
            "Classification report : \n",
            "              precision    recall  f1-score   support\n",
            "\n",
            "           0       0.88      0.82      0.85       554\n",
            "           1       0.83      0.88      0.86       547\n",
            "\n",
            "    accuracy                           0.85      1101\n",
            "   macro avg       0.85      0.85      0.85      1101\n",
            "weighted avg       0.85      0.85      0.85      1101\n",
            "\n"
          ],
          "name": "stdout"
        }
      ]
    },
    {
      "cell_type": "code",
      "metadata": {
        "colab": {
          "base_uri": "https://localhost:8080/"
        },
        "id": "wlg2QTYLiUiN",
        "outputId": "2442f2ec-29c2-4c2b-bfad-c6af893bbb18"
      },
      "source": [
        "csv_rf_lda = cross_val_score(rf_dim,X_val_lda, Y_val_lda, cv=5)\n",
        "\n",
        "print('Cross validation score: ' , csv_rf_lda)\n",
        "print('Mean csv score: ' , np.mean(csv_rf_lda))\n",
        "print('Standard deviation of csv score: ' , np.std(csv_rf_lda))"
      ],
      "execution_count": null,
      "outputs": [
        {
          "output_type": "stream",
          "text": [
            "Cross validation score:  [0.85067873 0.88687783 0.84090909 0.90454545 0.84090909]\n",
            "Mean csv score:  0.8647840394899218\n",
            "Standard deviation of csv score:  0.02610782116570224\n"
          ],
          "name": "stdout"
        }
      ]
    },
    {
      "cell_type": "code",
      "metadata": {
        "colab": {
          "base_uri": "https://localhost:8080/"
        },
        "id": "Sg_KTdhQyWTr",
        "outputId": "61d512d5-5b34-4b40-97f6-43efb3364fcb"
      },
      "source": [
        "Y_pred_case_rf_lda = rf_dim.predict(X_test_n_case)\n",
        "print('Predicted cases for Random Forest on dimensionaly reduced Data: ' , Y_pred_case_rf_lda)"
      ],
      "execution_count": null,
      "outputs": [
        {
          "output_type": "stream",
          "text": [
            "Predicted cases for Random Forest on dimensionaly reduced Data:  [1, 0, 1]\n"
          ],
          "name": "stdout"
        }
      ]
    },
    {
      "cell_type": "markdown",
      "metadata": {
        "id": "SHnSVm9Iu77A"
      },
      "source": [
        "# MLP"
      ]
    },
    {
      "cell_type": "markdown",
      "metadata": {
        "id": "ohUA00A5H2aa"
      },
      "source": [
        "MLP on Normal data"
      ]
    },
    {
      "cell_type": "code",
      "metadata": {
        "id": "3xlIoL7YH2aa"
      },
      "source": [
        "mlp_n = MLPClassifier(hidden_layer_sizes=200, max_iter=500).fit(X_train, Y_train)\n",
        "Y_pred_n_mlp = mlp_n.predict(X_test)"
      ],
      "execution_count": null,
      "outputs": []
    },
    {
      "cell_type": "code",
      "metadata": {
        "colab": {
          "base_uri": "https://localhost:8080/"
        },
        "id": "c44ChnOAH2aa",
        "outputId": "1cb4571a-e39b-49fa-a5d6-738d294828ae"
      },
      "source": [
        "print('For Multilayer-perceptron on normal Data -')\n",
        "print(\"The Precision :\", precision_score(Y_test, Y_pred_n_mlp))\n",
        "print(\"The Recall :\", recall_score(Y_test, Y_pred_n_mlp))\n",
        "print(\"The F1 score :\", f1_score(Y_test, Y_pred_n_mlp))\n",
        "print(\"The Accuracy :\", accuracy_score(Y_test, Y_pred_n_mlp))\n",
        "print(\"\\nConfusion matrix :\")\n",
        "print( confusion_matrix(Y_test,Y_pred_n_mlp))\n",
        "print('\\nClassification report : ')\n",
        "print(classification_report(Y_test, Y_pred_n_mlp))"
      ],
      "execution_count": null,
      "outputs": [
        {
          "output_type": "stream",
          "text": [
            "For Multilayer-perceptron on normal Data -\n",
            "The Precision : 0.8819188191881919\n",
            "The Recall : 0.8738574040219378\n",
            "The F1 score : 0.8778696051423324\n",
            "The Accuracy : 0.8792007266121707\n",
            "\n",
            "Confusion matrix :\n",
            "[[490  64]\n",
            " [ 69 478]]\n",
            "\n",
            "Classification report : \n",
            "              precision    recall  f1-score   support\n",
            "\n",
            "           0       0.88      0.88      0.88       554\n",
            "           1       0.88      0.87      0.88       547\n",
            "\n",
            "    accuracy                           0.88      1101\n",
            "   macro avg       0.88      0.88      0.88      1101\n",
            "weighted avg       0.88      0.88      0.88      1101\n",
            "\n"
          ],
          "name": "stdout"
        }
      ]
    },
    {
      "cell_type": "code",
      "metadata": {
        "colab": {
          "base_uri": "https://localhost:8080/"
        },
        "id": "HHJ2DG4zRRaD",
        "outputId": "ec41997e-fb15-4726-c793-3dcf90c4b6ec"
      },
      "source": [
        "csv_mlp_n = cross_val_score(mlp_n,X_val, Y_val, cv=5)\n",
        "\n",
        "print('Cross validation score: ' , csv_mlp_n)\n",
        "print('Mean csv score: ' , np.mean(csv_mlp_n))\n",
        "print('Standard deviation of csv score: ' , np.std(csv_mlp_n))"
      ],
      "execution_count": null,
      "outputs": [
        {
          "output_type": "stream",
          "text": [
            "Cross validation score:  [0.85067873 0.79638009 0.83636364 0.88181818 0.79545455]\n",
            "Mean csv score:  0.832139037433155\n",
            "Standard deviation of csv score:  0.0330273800762222\n"
          ],
          "name": "stdout"
        }
      ]
    },
    {
      "cell_type": "code",
      "metadata": {
        "colab": {
          "base_uri": "https://localhost:8080/"
        },
        "id": "zutubSN7yoTJ",
        "outputId": "e09978cc-b630-485c-c352-e248708faa4d"
      },
      "source": [
        "Y_pred_case_mlp_n = mlp_n.predict(X_test_n_case)\n",
        "print('Predicted cases for Multilayer-perceptron on normal Data: ' , Y_pred_case_mlp_n)"
      ],
      "execution_count": null,
      "outputs": [
        {
          "output_type": "stream",
          "text": [
            "Predicted cases for Multilayer-perceptron on normal Data:  [1, 0, 1]\n"
          ],
          "name": "stdout"
        }
      ]
    },
    {
      "cell_type": "markdown",
      "metadata": {
        "id": "ZUwtmpGm6NCv"
      },
      "source": [
        "MLP on Standardized data"
      ]
    },
    {
      "cell_type": "code",
      "metadata": {
        "id": "Edo3Yt1m1gt2"
      },
      "source": [
        "mlp_og = MLPClassifier(hidden_layer_sizes=150, max_iter=500).fit(X_train_std, Y_train_std)\n",
        "Y_pred_og_mlp = mlp_og.predict(X_test_std)"
      ],
      "execution_count": null,
      "outputs": []
    },
    {
      "cell_type": "code",
      "metadata": {
        "colab": {
          "base_uri": "https://localhost:8080/"
        },
        "id": "0YpH0SwE1gwH",
        "outputId": "7ede358f-483f-44d9-8124-9fb95b1517c0"
      },
      "source": [
        "print('For Multilayer-perceptron on standard Data -')\n",
        "print(\"The Precision :\", precision_score(Y_test_std, Y_pred_og_mlp))\n",
        "print(\"The Recall :\", recall_score(Y_test_std, Y_pred_og_mlp))\n",
        "print(\"The F1 score :\", f1_score(Y_test_std, Y_pred_og_mlp))\n",
        "print(\"The Accuracy :\", accuracy_score(Y_test_std, Y_pred_og_mlp))\n",
        "print(\"\\nConfusion matrix :\")\n",
        "print( confusion_matrix(Y_test_std,Y_pred_og_mlp))\n",
        "print('\\nClassification report : ')\n",
        "print(classification_report(Y_test_std, Y_pred_og_mlp))"
      ],
      "execution_count": null,
      "outputs": [
        {
          "output_type": "stream",
          "text": [
            "For Multilayer-perceptron on standard Data -\n",
            "The Precision : 0.9124767225325885\n",
            "The Recall : 0.8957952468007313\n",
            "The F1 score : 0.9040590405904059\n",
            "The Accuracy : 0.9055404178019982\n",
            "\n",
            "Confusion matrix :\n",
            "[[507  47]\n",
            " [ 57 490]]\n",
            "\n",
            "Classification report : \n",
            "              precision    recall  f1-score   support\n",
            "\n",
            "           0       0.90      0.92      0.91       554\n",
            "           1       0.91      0.90      0.90       547\n",
            "\n",
            "    accuracy                           0.91      1101\n",
            "   macro avg       0.91      0.91      0.91      1101\n",
            "weighted avg       0.91      0.91      0.91      1101\n",
            "\n"
          ],
          "name": "stdout"
        }
      ]
    },
    {
      "cell_type": "code",
      "metadata": {
        "id": "oszLp8VLy5j_",
        "colab": {
          "base_uri": "https://localhost:8080/"
        },
        "outputId": "f6ca56ef-c41b-4aad-fd51-8eb3269d2b0d"
      },
      "source": [
        "csv_mlp_s = cross_val_score(mlp_og,X_val_std, Y_val_std, cv=5)\n",
        "\n",
        "print('Cross validation score: ' , csv_mlp_s)\n",
        "print('Mean csv score: ' , np.mean(csv_mlp_s))\n",
        "print('Standard deviation of csv score: ' , np.std(csv_mlp_s))"
      ],
      "execution_count": null,
      "outputs": [
        {
          "output_type": "stream",
          "text": [
            "Cross validation score:  [0.88687783 0.90497738 0.88181818 0.89090909 0.85909091]\n",
            "Mean csv score:  0.8847346770876182\n",
            "Standard deviation of csv score:  0.014957219698201853\n"
          ],
          "name": "stdout"
        }
      ]
    },
    {
      "cell_type": "code",
      "metadata": {
        "colab": {
          "base_uri": "https://localhost:8080/"
        },
        "id": "CpOM1vfqy1gU",
        "outputId": "4d7db119-6d7c-4e29-fca3-f6ae10b31843"
      },
      "source": [
        "Y_pred_case_mlp_std = mlp_og.predict(X_test_std_case)\n",
        "print('Predicted cases for Multilayer-perceptron on standard Data: ' , Y_pred_case_mlp_std)"
      ],
      "execution_count": null,
      "outputs": [
        {
          "output_type": "stream",
          "text": [
            "Predicted cases for Multilayer-perceptron on standard Data:  [1, 0, 1]\n"
          ],
          "name": "stdout"
        }
      ]
    },
    {
      "cell_type": "code",
      "metadata": {
        "id": "NFVMxuXu6QJ7"
      },
      "source": [
        ""
      ],
      "execution_count": null,
      "outputs": []
    },
    {
      "cell_type": "markdown",
      "metadata": {
        "id": "G0zaTlBH6QzK"
      },
      "source": [
        "MLP By dimensionality reduction\n"
      ]
    },
    {
      "cell_type": "code",
      "metadata": {
        "id": "YGoaifxHAkmA"
      },
      "source": [
        "mlp_dim = MLPClassifier(hidden_layer_sizes=(100 , 5), max_iter=600).fit(X_train_lda , Y_train_lda)\n",
        "Y_pred_dim_mlp = mlp_dim.predict(X_test_lda)"
      ],
      "execution_count": null,
      "outputs": []
    },
    {
      "cell_type": "code",
      "metadata": {
        "colab": {
          "base_uri": "https://localhost:8080/"
        },
        "id": "NAfeWFg8AKR9",
        "outputId": "747d161c-9a4c-48fc-8c34-1698ccdbf924"
      },
      "source": [
        "print('For Multilayer-perceptron on dimensionaly reduced Data -')\n",
        "print(\"The Precision :\", precision_score(Y_test_std, Y_pred_dim_mlp))\n",
        "print(\"The Recall :\", recall_score(Y_test_std, Y_pred_dim_mlp))\n",
        "print(\"The F1 score :\", f1_score(Y_test_std, Y_pred_dim_mlp))\n",
        "print(\"The Accuracy :\", accuracy_score(Y_test_std, Y_pred_dim_mlp))\n",
        "print(\"\\nConfusion matrix :\")\n",
        "print( confusion_matrix(Y_test_std,Y_pred_dim_mlp))\n",
        "print('\\nClassification report : ')\n",
        "print(classification_report(Y_test_std, Y_pred_dim_mlp))"
      ],
      "execution_count": null,
      "outputs": [
        {
          "output_type": "stream",
          "text": [
            "For Multilayer-perceptron on dimensionaly reduced Data -\n",
            "The Precision : 0.8409090909090909\n",
            "The Recall : 0.8793418647166362\n",
            "The F1 score : 0.8596961572832886\n",
            "The Accuracy : 0.857402361489555\n",
            "\n",
            "Confusion matrix :\n",
            "[[463  91]\n",
            " [ 66 481]]\n",
            "\n",
            "Classification report : \n",
            "              precision    recall  f1-score   support\n",
            "\n",
            "           0       0.88      0.84      0.86       554\n",
            "           1       0.84      0.88      0.86       547\n",
            "\n",
            "    accuracy                           0.86      1101\n",
            "   macro avg       0.86      0.86      0.86      1101\n",
            "weighted avg       0.86      0.86      0.86      1101\n",
            "\n"
          ],
          "name": "stdout"
        }
      ]
    },
    {
      "cell_type": "code",
      "metadata": {
        "colab": {
          "base_uri": "https://localhost:8080/"
        },
        "id": "NB1dsXgyQCaV",
        "outputId": "6948952a-5f94-4667-dc65-fccffa626982"
      },
      "source": [
        "csv_mlp_lda = cross_val_score(mlp_dim,X_val_lda, Y_val_lda, cv=5)\n",
        "\n",
        "print('Cross validation score: ' , csv_mlp_lda)\n",
        "print('Mean csv score: ' , np.mean(csv_mlp_lda))\n",
        "print('Standard deviation of csv score: ' , np.std(csv_mlp_lda))"
      ],
      "execution_count": null,
      "outputs": [
        {
          "output_type": "stream",
          "text": [
            "/usr/local/lib/python3.7/dist-packages/sklearn/neural_network/_multilayer_perceptron.py:571: ConvergenceWarning: Stochastic Optimizer: Maximum iterations (600) reached and the optimization hasn't converged yet.\n",
            "  % self.max_iter, ConvergenceWarning)\n"
          ],
          "name": "stderr"
        },
        {
          "output_type": "stream",
          "text": [
            "Cross validation score:  [0.84615385 0.87782805 0.85454545 0.90454545 0.85454545]\n",
            "Mean csv score:  0.8675236528177704\n",
            "Standard deviation of csv score:  0.021308826296572717\n"
          ],
          "name": "stdout"
        }
      ]
    },
    {
      "cell_type": "code",
      "metadata": {
        "colab": {
          "base_uri": "https://localhost:8080/"
        },
        "id": "Kh-aqNL2y9DL",
        "outputId": "8c1af232-155a-4453-ac01-66dc53c1274c"
      },
      "source": [
        "Y_pred_case_mlp_lda = mlp_dim.predict(X_test_lda_case)\n",
        "print('Predicted cases for Multilayer-perceptron on dimensionaly reduced Data: ' , Y_pred_case_mlp_lda)"
      ],
      "execution_count": null,
      "outputs": [
        {
          "output_type": "stream",
          "text": [
            "Predicted cases for Multilayer-perceptron on dimensionaly reduced Data:  [1, 0, 1]\n"
          ],
          "name": "stdout"
        }
      ]
    },
    {
      "cell_type": "markdown",
      "metadata": {
        "id": "fSiINqg3SRA_"
      },
      "source": [
        "# KNN"
      ]
    },
    {
      "cell_type": "markdown",
      "metadata": {
        "id": "mCtYeIvDSRBM"
      },
      "source": [
        "KNN on Normal data"
      ]
    },
    {
      "cell_type": "code",
      "metadata": {
        "id": "iGpCLgI6SRBM"
      },
      "source": [
        "KNN_n = KNeighborsClassifier().fit(X_train, Y_train)\n",
        "Y_pred_n_knn = KNN_n.predict(X_test)"
      ],
      "execution_count": null,
      "outputs": []
    },
    {
      "cell_type": "code",
      "metadata": {
        "colab": {
          "base_uri": "https://localhost:8080/"
        },
        "id": "qIzS35LsSRBN",
        "outputId": "575a8ccf-b94c-4b87-b2d2-690121857954"
      },
      "source": [
        "print('For K-Nearest Neighbors on normal Data -')\n",
        "print(\"The Precision :\", precision_score(Y_test, Y_pred_n_knn))\n",
        "print(\"The Recall :\", recall_score(Y_test, Y_pred_n_knn))\n",
        "print(\"The F1 score :\", f1_score(Y_test, Y_pred_n_knn))\n",
        "print(\"The Accuracy :\", accuracy_score(Y_test, Y_pred_n_knn))\n",
        "print(\"\\nConfusion matrix :\")\n",
        "print( confusion_matrix(Y_test,Y_pred_n_knn))\n",
        "print('\\nClassification report : ')\n",
        "print(classification_report(Y_test, Y_pred_n_knn))"
      ],
      "execution_count": null,
      "outputs": [
        {
          "output_type": "stream",
          "text": [
            "For K-Nearest Neighbors on normal Data -\n",
            "The Precision : 0.9366197183098591\n",
            "The Recall : 0.7294332723948812\n",
            "The F1 score : 0.8201438848920863\n",
            "The Accuracy : 0.8410535876475931\n",
            "\n",
            "Confusion matrix :\n",
            "[[527  27]\n",
            " [148 399]]\n",
            "\n",
            "Classification report : \n",
            "              precision    recall  f1-score   support\n",
            "\n",
            "           0       0.78      0.95      0.86       554\n",
            "           1       0.94      0.73      0.82       547\n",
            "\n",
            "    accuracy                           0.84      1101\n",
            "   macro avg       0.86      0.84      0.84      1101\n",
            "weighted avg       0.86      0.84      0.84      1101\n",
            "\n"
          ],
          "name": "stdout"
        }
      ]
    },
    {
      "cell_type": "code",
      "metadata": {
        "colab": {
          "base_uri": "https://localhost:8080/"
        },
        "id": "AtBdWrCVSRBP",
        "outputId": "f492f040-5b00-43f2-e300-cc6cf10a53be"
      },
      "source": [
        "csv_KNN_n = cross_val_score(KNN_n,X_val, Y_val, cv=5)\n",
        "\n",
        "print('Cross validation score: ' , csv_KNN_n)\n",
        "print('Mean csv score: ' , np.mean(csv_KNN_n))\n",
        "print('Standard deviation of csv score: ' , np.std(csv_KNN_n))"
      ],
      "execution_count": null,
      "outputs": [
        {
          "output_type": "stream",
          "text": [
            "Cross validation score:  [0.82352941 0.84162896 0.81363636 0.80909091 0.83181818]\n",
            "Mean csv score:  0.8239407651172357\n",
            "Standard deviation of csv score:  0.011847312201013309\n"
          ],
          "name": "stdout"
        }
      ]
    },
    {
      "cell_type": "code",
      "metadata": {
        "colab": {
          "base_uri": "https://localhost:8080/"
        },
        "id": "b-vjolfa4jUe",
        "outputId": "ce81b715-97ea-4135-88f7-d76415ae9d27"
      },
      "source": [
        "Y_pred_case_knn_n = KNN_n.predict(X_test_sn_case)\n",
        "print('Predicted cases for K-Nearest Neighbors on normal Data: ' , Y_pred_case_knn_n)"
      ],
      "execution_count": null,
      "outputs": [
        {
          "output_type": "stream",
          "text": [
            "Predicted cases for K-Nearest Neighbors on normal Data:  [1, 0, 1]\n"
          ],
          "name": "stdout"
        }
      ]
    },
    {
      "cell_type": "markdown",
      "metadata": {
        "id": "QVs2OgWGSRBP"
      },
      "source": [
        "KNN on Standardized data"
      ]
    },
    {
      "cell_type": "code",
      "metadata": {
        "id": "AaxR9H-iSRBQ"
      },
      "source": [
        "KNN_og = KNeighborsClassifier().fit(X_train_std, Y_train_std)\n",
        "Y_pred_og_knn = KNN_og.predict(X_test_std)"
      ],
      "execution_count": null,
      "outputs": []
    },
    {
      "cell_type": "code",
      "metadata": {
        "colab": {
          "base_uri": "https://localhost:8080/"
        },
        "id": "k4R45bS6SRBQ",
        "outputId": "0e664573-d66a-4b05-ccdb-5bca3815f7e0"
      },
      "source": [
        "print('For K-Nearest Neighbors on standard Data -')\n",
        "print(\"The Precision :\", precision_score(Y_test_std, Y_pred_og_knn))\n",
        "print(\"The Recall :\", recall_score(Y_test_std, Y_pred_og_knn))\n",
        "print(\"The F1 score :\", f1_score(Y_test_std, Y_pred_og_knn))\n",
        "print(\"The Accuracy :\", accuracy_score(Y_test_std, Y_pred_og_knn))\n",
        "print(\"\\nConfusion matrix :\")\n",
        "print( confusion_matrix(Y_test_std,Y_pred_og_knn))\n",
        "print('\\nClassification report : ')\n",
        "print(classification_report(Y_test_std, Y_pred_og_knn))"
      ],
      "execution_count": null,
      "outputs": [
        {
          "output_type": "stream",
          "text": [
            "For K-Nearest Neighbors on standard Data -\n",
            "The Precision : 0.9303944315545244\n",
            "The Recall : 0.7330895795246801\n",
            "The F1 score : 0.820040899795501\n",
            "The Accuracy : 0.8401453224341507\n",
            "\n",
            "Confusion matrix :\n",
            "[[524  30]\n",
            " [146 401]]\n",
            "\n",
            "Classification report : \n",
            "              precision    recall  f1-score   support\n",
            "\n",
            "           0       0.78      0.95      0.86       554\n",
            "           1       0.93      0.73      0.82       547\n",
            "\n",
            "    accuracy                           0.84      1101\n",
            "   macro avg       0.86      0.84      0.84      1101\n",
            "weighted avg       0.86      0.84      0.84      1101\n",
            "\n"
          ],
          "name": "stdout"
        }
      ]
    },
    {
      "cell_type": "code",
      "metadata": {
        "colab": {
          "base_uri": "https://localhost:8080/"
        },
        "id": "ggtOD-35SRBQ",
        "outputId": "3c0c3814-7d22-47b7-bb2f-098a3003c58c"
      },
      "source": [
        "csv_KNN_s = cross_val_score(KNN_og,X_val_std, Y_val_std, cv=5)\n",
        "\n",
        "print('Cross validation score: ' , csv_KNN_s)\n",
        "print('Mean csv score: ' , np.mean(csv_KNN_s))\n",
        "print('Standard deviation of csv score: ' , np.std(csv_KNN_s))"
      ],
      "execution_count": null,
      "outputs": [
        {
          "output_type": "stream",
          "text": [
            "Cross validation score:  [0.80542986 0.83710407 0.80454545 0.79545455 0.83636364]\n",
            "Mean csv score:  0.815779514603044\n",
            "Standard deviation of csv score:  0.017463485175865538\n"
          ],
          "name": "stdout"
        }
      ]
    },
    {
      "cell_type": "code",
      "metadata": {
        "colab": {
          "base_uri": "https://localhost:8080/"
        },
        "id": "R0gThBik4J-W",
        "outputId": "bce91123-57c4-4ead-8800-a9322a661291"
      },
      "source": [
        "Y_pred_case_knn_std = KNN_og.predict(X_test_std_case)\n",
        "print('Predicted cases for K-Nearest Neighbors on standard Data: ' , Y_pred_case_knn_std)"
      ],
      "execution_count": null,
      "outputs": [
        {
          "output_type": "stream",
          "text": [
            "Predicted cases for K-Nearest Neighbors on standard Data:  [1, 0, 1]\n"
          ],
          "name": "stdout"
        }
      ]
    },
    {
      "cell_type": "markdown",
      "metadata": {
        "id": "WwA1DhtqSRBR"
      },
      "source": [
        "KNN By dimensionality reduction\n"
      ]
    },
    {
      "cell_type": "code",
      "metadata": {
        "id": "QCgMl5VuSRBR"
      },
      "source": [
        "KNN_dim = KNeighborsClassifier().fit(X_train_lda , Y_train_lda)\n",
        "Y_pred_dim_knn = KNN_dim.predict(X_test_lda)"
      ],
      "execution_count": null,
      "outputs": []
    },
    {
      "cell_type": "code",
      "metadata": {
        "colab": {
          "base_uri": "https://localhost:8080/"
        },
        "id": "fKxCFLnJSRBS",
        "outputId": "b0ad7650-9daa-4d1e-c0fd-d4f3a78e5af4"
      },
      "source": [
        "print('For K-Nearest Neighbors on dimensionaly reduced Data -')\n",
        "print(\"The Precision :\", precision_score(Y_test_std, Y_pred_dim_knn))\n",
        "print(\"The Recall :\", recall_score(Y_test_std, Y_pred_dim_knn))\n",
        "print(\"The F1 score :\", f1_score(Y_test_std, Y_pred_dim_knn))\n",
        "print(\"The Accuracy :\", accuracy_score(Y_test_std, Y_pred_dim_knn))\n",
        "print(\"\\nConfusion matrix :\")\n",
        "print( confusion_matrix(Y_test_std,Y_pred_dim_knn))\n",
        "print('\\nClassification report : ')\n",
        "print(classification_report(Y_test_std, Y_pred_dim_knn))"
      ],
      "execution_count": null,
      "outputs": [
        {
          "output_type": "stream",
          "text": [
            "For K-Nearest Neighbors on dimensionaly reduced Data -\n",
            "The Precision : 0.8461538461538461\n",
            "The Recall : 0.8647166361974405\n",
            "The F1 score : 0.8553345388788426\n",
            "The Accuracy : 0.8546775658492279\n",
            "\n",
            "Confusion matrix :\n",
            "[[468  86]\n",
            " [ 74 473]]\n",
            "\n",
            "Classification report : \n",
            "              precision    recall  f1-score   support\n",
            "\n",
            "           0       0.86      0.84      0.85       554\n",
            "           1       0.85      0.86      0.86       547\n",
            "\n",
            "    accuracy                           0.85      1101\n",
            "   macro avg       0.85      0.85      0.85      1101\n",
            "weighted avg       0.85      0.85      0.85      1101\n",
            "\n"
          ],
          "name": "stdout"
        }
      ]
    },
    {
      "cell_type": "code",
      "metadata": {
        "colab": {
          "base_uri": "https://localhost:8080/"
        },
        "id": "EjQ8LmsfSRBS",
        "outputId": "7c2b1253-2b4b-45d4-9cce-1c355cbdd39e"
      },
      "source": [
        "csv_KNN_lda = cross_val_score(KNN_dim,X_val_lda, Y_val_lda, cv=5)\n",
        "\n",
        "print('Cross validation score: ' , csv_KNN_lda)\n",
        "print('Mean csv score: ' , np.mean(csv_KNN_lda))\n",
        "print('Standard deviation of csv score: ' , np.std(csv_KNN_lda))"
      ],
      "execution_count": null,
      "outputs": [
        {
          "output_type": "stream",
          "text": [
            "Cross validation score:  [0.85067873 0.85972851 0.85909091 0.88636364 0.83181818]\n",
            "Mean csv score:  0.8575359934183464\n",
            "Standard deviation of csv score:  0.01758798299359688\n"
          ],
          "name": "stdout"
        }
      ]
    },
    {
      "cell_type": "code",
      "metadata": {
        "id": "Cg7nP6MNSRBT",
        "colab": {
          "base_uri": "https://localhost:8080/"
        },
        "outputId": "d1a5e883-451f-4a21-d081-973d94a0dbe5"
      },
      "source": [
        "Y_pred_case_knn_lda = KNN_dim.predict(X_test_lda_case)\n",
        "print('Predicted cases for K-Nearest Neighbors on dimensionaly reduced Data: ' , Y_pred_case_knn_lda)"
      ],
      "execution_count": null,
      "outputs": [
        {
          "output_type": "stream",
          "text": [
            "Predicted cases for K-Nearest Neighbors on dimensionaly reduced Data:  [1, 0, 1]\n"
          ],
          "name": "stdout"
        }
      ]
    },
    {
      "cell_type": "markdown",
      "metadata": {
        "id": "2G5fXsi1U9EE"
      },
      "source": [
        "# SVM"
      ]
    },
    {
      "cell_type": "markdown",
      "metadata": {
        "id": "8gnEZ1P1U9EZ"
      },
      "source": [
        "SVM on Normal data"
      ]
    },
    {
      "cell_type": "code",
      "metadata": {
        "id": "2ECG1vB2U9Ea"
      },
      "source": [
        "SVM_n = SVC(kernel='rbf').fit(X_train, Y_train)\n",
        "Y_pred_n_svm = SVM_n.predict(X_test)"
      ],
      "execution_count": null,
      "outputs": []
    },
    {
      "cell_type": "code",
      "metadata": {
        "colab": {
          "base_uri": "https://localhost:8080/"
        },
        "id": "TrgO80HAU9Eb",
        "outputId": "a96d4918-f82e-4ca8-a1a8-35fb1c79a9f4"
      },
      "source": [
        "print('For Support Vector Machine (SVM) on normal Data -')\n",
        "print(\"The Precision :\", precision_score(Y_test, Y_pred_n_svm))\n",
        "print(\"The Recall :\", recall_score(Y_test, Y_pred_n_svm))\n",
        "print(\"The F1 score :\", f1_score(Y_test, Y_pred_n_svm))\n",
        "print(\"The Accuracy :\", accuracy_score(Y_test, Y_pred_n_svm))\n",
        "print(\"\\nConfusion matrix :\")\n",
        "print( confusion_matrix(Y_test,Y_pred_n_svm))\n",
        "print('\\nClassification report : ')\n",
        "print(classification_report(Y_test, Y_pred_n_svm))"
      ],
      "execution_count": null,
      "outputs": [
        {
          "output_type": "stream",
          "text": [
            "For Support Vector Machine (SVM) on normal Data -\n",
            "The Precision : 0.9210526315789473\n",
            "The Recall : 0.8957952468007313\n",
            "The F1 score : 0.9082483781278963\n",
            "The Accuracy : 0.9100817438692098\n",
            "\n",
            "Confusion matrix :\n",
            "[[512  42]\n",
            " [ 57 490]]\n",
            "\n",
            "Classification report : \n",
            "              precision    recall  f1-score   support\n",
            "\n",
            "           0       0.90      0.92      0.91       554\n",
            "           1       0.92      0.90      0.91       547\n",
            "\n",
            "    accuracy                           0.91      1101\n",
            "   macro avg       0.91      0.91      0.91      1101\n",
            "weighted avg       0.91      0.91      0.91      1101\n",
            "\n"
          ],
          "name": "stdout"
        }
      ]
    },
    {
      "cell_type": "code",
      "metadata": {
        "colab": {
          "base_uri": "https://localhost:8080/"
        },
        "id": "69vARjHiU9Ec",
        "outputId": "23d54486-9ce3-4941-9969-2c39625f78cd"
      },
      "source": [
        "csv_SVM_n = cross_val_score(SVM_n,X_val, Y_val, cv=5)\n",
        "\n",
        "print('Cross validation score: ' , csv_SVM_n)\n",
        "print('Mean csv score: ' , np.mean(csv_SVM_n))\n",
        "print('Standard deviation of csv score: ' , np.std(csv_SVM_n))"
      ],
      "execution_count": null,
      "outputs": [
        {
          "output_type": "stream",
          "text": [
            "Cross validation score:  [0.91855204 0.89140271 0.88181818 0.88636364 0.92272727]\n",
            "Mean csv score:  0.9001727684080624\n",
            "Standard deviation of csv score:  0.01703525734643509\n"
          ],
          "name": "stdout"
        }
      ]
    },
    {
      "cell_type": "code",
      "metadata": {
        "colab": {
          "base_uri": "https://localhost:8080/"
        },
        "id": "a_Dv7jZk42lw",
        "outputId": "13c4dc83-077f-46ab-d937-071ef3e301ba"
      },
      "source": [
        "Y_pred_case_svm_n = SVM_n.predict(X_test_sn_case)\n",
        "print('Predicted cases for Support Vector Machine (SVM) on normal Data: ' , Y_pred_case_svm_n)"
      ],
      "execution_count": null,
      "outputs": [
        {
          "output_type": "stream",
          "text": [
            "Predicted cases for Support Vector Machine (SVM) on normal Data:  [1, 0, 1]\n"
          ],
          "name": "stdout"
        }
      ]
    },
    {
      "cell_type": "markdown",
      "metadata": {
        "id": "aenfkiuLU9Ed"
      },
      "source": [
        "SVM on Standardized data"
      ]
    },
    {
      "cell_type": "code",
      "metadata": {
        "id": "_uOxgaSyU9Ee"
      },
      "source": [
        "SVM_og = SVC(kernel='rbf').fit(X_train_std, Y_train_std)\n",
        "Y_pred_og_svm = SVM_og.predict(X_test_std)"
      ],
      "execution_count": null,
      "outputs": []
    },
    {
      "cell_type": "code",
      "metadata": {
        "colab": {
          "base_uri": "https://localhost:8080/"
        },
        "id": "3uN9toUcU9Ef",
        "outputId": "fdfd8e04-d3ff-4a8d-c5f4-167aec8c355f"
      },
      "source": [
        "print('For Support Vector Machine (SVM) on standard Data -')\n",
        "print(\"The Precision :\", precision_score(Y_test_std, Y_pred_og_svm))\n",
        "print(\"The Recall :\", recall_score(Y_test_std, Y_pred_og_svm))\n",
        "print(\"The F1 score :\", f1_score(Y_test_std, Y_pred_og_svm))\n",
        "print(\"The Accuracy :\", accuracy_score(Y_test_std, Y_pred_og_svm))\n",
        "print(\"\\nConfusion matrix :\")\n",
        "print( confusion_matrix(Y_test_std,Y_pred_og_svm))\n",
        "print('\\nClassification report : ')\n",
        "print(classification_report(Y_test_std, Y_pred_og_svm))"
      ],
      "execution_count": null,
      "outputs": [
        {
          "output_type": "stream",
          "text": [
            "For Support Vector Machine (SVM) on standard Data -\n",
            "The Precision : 0.9212007504690432\n",
            "The Recall : 0.8976234003656307\n",
            "The F1 score : 0.9092592592592592\n",
            "The Accuracy : 0.9109900090826522\n",
            "\n",
            "Confusion matrix :\n",
            "[[512  42]\n",
            " [ 56 491]]\n",
            "\n",
            "Classification report : \n",
            "              precision    recall  f1-score   support\n",
            "\n",
            "           0       0.90      0.92      0.91       554\n",
            "           1       0.92      0.90      0.91       547\n",
            "\n",
            "    accuracy                           0.91      1101\n",
            "   macro avg       0.91      0.91      0.91      1101\n",
            "weighted avg       0.91      0.91      0.91      1101\n",
            "\n"
          ],
          "name": "stdout"
        }
      ]
    },
    {
      "cell_type": "code",
      "metadata": {
        "colab": {
          "base_uri": "https://localhost:8080/"
        },
        "id": "grgtjmqcU9Eg",
        "outputId": "2e538673-cbeb-41e5-9bf3-8e4e23c1a676"
      },
      "source": [
        "csv_SVM_s = cross_val_score(SVM_og,X_val_std, Y_val_std, cv=5)\n",
        "\n",
        "print('Cross validation score: ' , csv_SVM_s)\n",
        "print('Mean csv score: ' , np.mean(csv_SVM_s))\n",
        "print('Standard deviation of csv score: ' , np.std(csv_SVM_s))"
      ],
      "execution_count": null,
      "outputs": [
        {
          "output_type": "stream",
          "text": [
            "Cross validation score:  [0.91855204 0.89140271 0.88181818 0.88181818 0.91818182]\n",
            "Mean csv score:  0.8983545865898807\n",
            "Standard deviation of csv score:  0.016711014142833387\n"
          ],
          "name": "stdout"
        }
      ]
    },
    {
      "cell_type": "code",
      "metadata": {
        "colab": {
          "base_uri": "https://localhost:8080/"
        },
        "id": "kPiYWC205lpH",
        "outputId": "2684248c-2440-4a29-d322-969a74d44a41"
      },
      "source": [
        "Y_pred_case_svm_std = SVM_og.predict(X_test_std_case)\n",
        "print('Predicted cases for Support Vector Machine (SVM) on standard Data: ' , Y_pred_case_svm_std)"
      ],
      "execution_count": null,
      "outputs": [
        {
          "output_type": "stream",
          "text": [
            "Predicted cases for Support Vector Machine (SVM) on standard Data:  [1, 0, 1]\n"
          ],
          "name": "stdout"
        }
      ]
    },
    {
      "cell_type": "markdown",
      "metadata": {
        "id": "vKSDzMJaU9Eh"
      },
      "source": [
        "SVM By dimensionality reduction\n"
      ]
    },
    {
      "cell_type": "code",
      "metadata": {
        "id": "TOc-lw6hU9Eh"
      },
      "source": [
        "SVM_dim = SVC(kernel='rbf').fit(X_train_lda , Y_train_lda)\n",
        "Y_pred_dim_svm = SVM_dim.predict(X_test_lda)"
      ],
      "execution_count": null,
      "outputs": []
    },
    {
      "cell_type": "code",
      "metadata": {
        "colab": {
          "base_uri": "https://localhost:8080/"
        },
        "id": "orKn_jb6U9Ei",
        "outputId": "c237400e-7390-4dcc-895b-d65bf9bd95ae"
      },
      "source": [
        "print('For Support Vector Machine (SVM) on dimensionaly reduced Data -')\n",
        "print(\"The Precision :\", precision_score(Y_test_std, Y_pred_dim_svm))\n",
        "print(\"The Recall :\", recall_score(Y_test_std, Y_pred_dim_svm))\n",
        "print(\"The F1 score :\", f1_score(Y_test_std, Y_pred_dim_svm))\n",
        "print(\"The Accuracy :\", accuracy_score(Y_test_std, Y_pred_dim_svm))\n",
        "print(\"\\nConfusion matrix :\")\n",
        "print( confusion_matrix(Y_test_std,Y_pred_dim_svm))\n",
        "print('\\nClassification report : ')\n",
        "print(classification_report(Y_test_std, Y_pred_dim_svm))"
      ],
      "execution_count": null,
      "outputs": [
        {
          "output_type": "stream",
          "text": [
            "For Support Vector Machine (SVM) on dimensionaly reduced Data -\n",
            "The Precision : 0.8467023172905526\n",
            "The Recall : 0.8683729433272395\n",
            "The F1 score : 0.8574007220216606\n",
            "The Accuracy : 0.8564940962761126\n",
            "\n",
            "Confusion matrix :\n",
            "[[468  86]\n",
            " [ 72 475]]\n",
            "\n",
            "Classification report : \n",
            "              precision    recall  f1-score   support\n",
            "\n",
            "           0       0.87      0.84      0.86       554\n",
            "           1       0.85      0.87      0.86       547\n",
            "\n",
            "    accuracy                           0.86      1101\n",
            "   macro avg       0.86      0.86      0.86      1101\n",
            "weighted avg       0.86      0.86      0.86      1101\n",
            "\n"
          ],
          "name": "stdout"
        }
      ]
    },
    {
      "cell_type": "code",
      "metadata": {
        "colab": {
          "base_uri": "https://localhost:8080/"
        },
        "id": "f8fSbYkBU9Ei",
        "outputId": "5e413065-ca21-4260-f252-ee86d1de9300"
      },
      "source": [
        "csv_SVM_lda = cross_val_score(SVM_dim,X_val_lda, Y_val_lda, cv=5)\n",
        "\n",
        "print('Cross validation score: ' , csv_SVM_lda)\n",
        "print('Mean csv score: ' , np.mean(csv_SVM_lda))\n",
        "print('Standard deviation of csv score: ' , np.std(csv_SVM_lda))"
      ],
      "execution_count": null,
      "outputs": [
        {
          "output_type": "stream",
          "text": [
            "Cross validation score:  [0.84615385 0.87782805 0.85454545 0.91363636 0.85454545]\n",
            "Mean csv score:  0.8693418346359522\n",
            "Standard deviation of csv score:  0.024533934706617945\n"
          ],
          "name": "stdout"
        }
      ]
    },
    {
      "cell_type": "code",
      "metadata": {
        "colab": {
          "base_uri": "https://localhost:8080/"
        },
        "id": "vMSI9VO05xOn",
        "outputId": "82b08194-7f69-4603-c6f4-d6bb77499de9"
      },
      "source": [
        "Y_pred_case_svm_lda = SVM_dim.predict(X_test_lda_case)\n",
        "print('Predicted cases for Support Vector Machine (SVM) on dimensionaly reduced Data: ' , Y_pred_case_svm_lda)"
      ],
      "execution_count": null,
      "outputs": [
        {
          "output_type": "stream",
          "text": [
            "Predicted cases for Support Vector Machine (SVM) on dimensionaly reduced Data:  [1, 0, 1]\n"
          ],
          "name": "stdout"
        }
      ]
    },
    {
      "cell_type": "markdown",
      "metadata": {
        "id": "3WWtFH0W2Uy_"
      },
      "source": [
        "# Data Loading & Processing CNN"
      ]
    },
    {
      "cell_type": "code",
      "metadata": {
        "id": "RjR7A4FgtcGh",
        "colab": {
          "base_uri": "https://localhost:8080/"
        },
        "outputId": "317e2749-5fdc-41b5-f9d5-c4b4b910860f"
      },
      "source": [
        "import os\n",
        "import pickle\n",
        "import PIL.Image\n",
        "import numpy as np\n",
        "import pandas as pd\n",
        "\n",
        "import glob\n",
        "from google.colab import drive\n",
        "# import dnnlib\n",
        "# import dnnlib.tflib as tflib\n",
        "# import config\n",
        "# from encoder.generator_model import Generator\n",
        "\n",
        "import matplotlib.pyplot as plt\n",
        "%matplotlib inline\n",
        "drive.mount('/content/drive')"
      ],
      "execution_count": null,
      "outputs": [
        {
          "output_type": "stream",
          "text": [
            "Drive already mounted at /content/drive; to attempt to forcibly remount, call drive.mount(\"/content/drive\", force_remount=True).\n"
          ],
          "name": "stdout"
        }
      ]
    },
    {
      "cell_type": "code",
      "metadata": {
        "id": "JZb4IazgIaYZ",
        "colab": {
          "base_uri": "https://localhost:8080/"
        },
        "outputId": "25b50c0a-e49f-43d6-88f7-04e168575994"
      },
      "source": [
        "from google.colab import drive\n",
        "drive.mount('/content/drive')"
      ],
      "execution_count": null,
      "outputs": [
        {
          "output_type": "stream",
          "text": [
            "Drive already mounted at /content/drive; to attempt to forcibly remount, call drive.mount(\"/content/drive\", force_remount=True).\n"
          ],
          "name": "stdout"
        }
      ]
    },
    {
      "cell_type": "code",
      "metadata": {
        "id": "foPO0K5n7cKT"
      },
      "source": [
        "import cv2\n",
        "path = \"/content/drive/MyDrive/mask/\"\n",
        "images = glob.glob(path + '/*.png')"
      ],
      "execution_count": null,
      "outputs": []
    },
    {
      "cell_type": "code",
      "metadata": {
        "id": "8bMxWWwZ-rQS"
      },
      "source": [
        "img_list = []\n",
        "for image in images:\n",
        "  img = PIL.Image.open(image)\n",
        "  img_list.append(np.asarray(img))"
      ],
      "execution_count": null,
      "outputs": []
    },
    {
      "cell_type": "code",
      "metadata": {
        "colab": {
          "base_uri": "https://localhost:8080/",
          "height": 250
        },
        "id": "ykJC0SSTABKu",
        "outputId": "382108c7-b94a-4f8d-feae-cce9fc1a2508"
      },
      "source": [
        "df = pd.DataFrame(img_list)\n",
        "df.head()"
      ],
      "execution_count": null,
      "outputs": [
        {
          "output_type": "stream",
          "text": [
            "/usr/local/lib/python3.7/dist-packages/pandas/core/internals/construction.py:305: VisibleDeprecationWarning: Creating an ndarray from ragged nested sequences (which is a list-or-tuple of lists-or-tuples-or ndarrays with different lengths or shapes) is deprecated. If you meant to do this, you must specify 'dtype=object' when creating the ndarray\n",
            "  values = np.array([convert(v) for v in values])\n"
          ],
          "name": "stderr"
        },
        {
          "output_type": "execute_result",
          "data": {
            "text/html": [
              "<div>\n",
              "<style scoped>\n",
              "    .dataframe tbody tr th:only-of-type {\n",
              "        vertical-align: middle;\n",
              "    }\n",
              "\n",
              "    .dataframe tbody tr th {\n",
              "        vertical-align: top;\n",
              "    }\n",
              "\n",
              "    .dataframe thead th {\n",
              "        text-align: right;\n",
              "    }\n",
              "</style>\n",
              "<table border=\"1\" class=\"dataframe\">\n",
              "  <thead>\n",
              "    <tr style=\"text-align: right;\">\n",
              "      <th></th>\n",
              "      <th>0</th>\n",
              "    </tr>\n",
              "  </thead>\n",
              "  <tbody>\n",
              "    <tr>\n",
              "      <th>0</th>\n",
              "      <td>[[[38, 51, 59], [37, 50, 58], [37, 50, 58], [3...</td>\n",
              "    </tr>\n",
              "    <tr>\n",
              "      <th>1</th>\n",
              "      <td>[[[35, 47, 57], [35, 47, 57], [35, 47, 57], [3...</td>\n",
              "    </tr>\n",
              "    <tr>\n",
              "      <th>2</th>\n",
              "      <td>[[[250, 250, 250], [250, 250, 250], [250, 250,...</td>\n",
              "    </tr>\n",
              "    <tr>\n",
              "      <th>3</th>\n",
              "      <td>[[[172, 171, 225], [164, 163, 215], [156, 156,...</td>\n",
              "    </tr>\n",
              "    <tr>\n",
              "      <th>4</th>\n",
              "      <td>[[[55, 54, 56], [55, 54, 57], [56, 55, 57], [5...</td>\n",
              "    </tr>\n",
              "  </tbody>\n",
              "</table>\n",
              "</div>"
            ],
            "text/plain": [
              "                                                   0\n",
              "0  [[[38, 51, 59], [37, 50, 58], [37, 50, 58], [3...\n",
              "1  [[[35, 47, 57], [35, 47, 57], [35, 47, 57], [3...\n",
              "2  [[[250, 250, 250], [250, 250, 250], [250, 250,...\n",
              "3  [[[172, 171, 225], [164, 163, 215], [156, 156,...\n",
              "4  [[[55, 54, 56], [55, 54, 57], [56, 55, 57], [5..."
            ]
          },
          "metadata": {
            "tags": []
          },
          "execution_count": 19
        }
      ]
    },
    {
      "cell_type": "code",
      "metadata": {
        "id": "jzTaUwQ82NRk"
      },
      "source": [
        "import os\n",
        "path = 'drive/MyDrive/mask'\n",
        "mask_image_path = os.listdir(path)[:400]\n",
        "len(mask_image_path)"
      ],
      "execution_count": null,
      "outputs": []
    },
    {
      "cell_type": "code",
      "metadata": {
        "colab": {
          "base_uri": "https://localhost:8080/"
        },
        "id": "s3xu2_g9uSv3",
        "outputId": "c619e7d2-43e6-41c5-e65f-9671ce753af8"
      },
      "source": [
        "import os\n",
        "path = 'drive/MyDrive/no_mask'\n",
        "no_mask_image_path = os.listdir(path)[:400]\n",
        "len(no_mask_image_path)"
      ],
      "execution_count": null,
      "outputs": [
        {
          "output_type": "execute_result",
          "data": {
            "text/plain": [
              "400"
            ]
          },
          "metadata": {
            "tags": []
          },
          "execution_count": 9
        }
      ]
    },
    {
      "cell_type": "code",
      "metadata": {
        "id": "wfCOE1iRurzS"
      },
      "source": [
        ""
      ],
      "execution_count": null,
      "outputs": []
    },
    {
      "cell_type": "markdown",
      "metadata": {
        "id": "tEar8WWNPEKw"
      },
      "source": [
        "#Applying Cnn"
      ]
    },
    {
      "cell_type": "code",
      "metadata": {
        "colab": {
          "base_uri": "https://localhost:8080/"
        },
        "id": "V7OSH-5gPGCi",
        "outputId": "b2918103-5d2a-4d89-8524-59eebfe83cfb"
      },
      "source": [
        "import glob\n",
        "import shutil\n",
        "import os\n",
        "\n",
        "src_dir_mask = \"/content/drive/MyDrive/mask\"\n",
        "src_dis_no_mask = \"/content/drive/MyDrive/no_mask\"\n",
        "dst_dir_train_m = \"/content/drive/MyDrive/minor_proj/train/mask\"\n",
        "dst_dir_valid_m = \"/content/drive/MyDrive/minor_proj/validation/mask\"\n",
        "dst_dir_train_nm = \"/content/drive/MyDrive/minor_proj/train/no_mask\"\n",
        "dst_dir_valid_ng = \"/content/drive/MyDrive/minor_proj/validation/no_mask\"\n",
        "dst_dir_test = \"/content/drive/MyDrive/minor_proj/test\"\n",
        "i = 0\n",
        "train = 1\n",
        "valid = 0\n",
        "test = 0\n",
        "for pngfile in glob.iglob(os.path.join(src_dir_mask, \"*.jpg\")):\n",
        "    if train <= 200:\n",
        "        dst_dir = dst_dir_train_m\n",
        "    elif 200 < train <= 350 :\n",
        "        dst_dir = dst_dir_valid_m\n",
        "    else:\n",
        "        dst_dir = dst_dir_test\n",
        "    train += 1\n",
        "    shutil.copy(pngfile, dst_dir)\n",
        "print(train+valid)"
      ],
      "execution_count": null,
      "outputs": [
        {
          "output_type": "stream",
          "text": [
            "330\n"
          ],
          "name": "stdout"
        }
      ]
    },
    {
      "cell_type": "code",
      "metadata": {
        "id": "2j87uM8PQwCA",
        "colab": {
          "base_uri": "https://localhost:8080/"
        },
        "outputId": "bdc139a9-fbe1-46ee-9428-115d842ea605"
      },
      "source": [
        "import tensorflow as tf\n",
        "from keras.preprocessing.image import ImageDataGenerator\n",
        "train_datagen = ImageDataGenerator(rescale = 1./255,\n",
        "                                   shear_range = 0.2,\n",
        "                                   zoom_range = 0.2,\n",
        "                                   horizontal_flip = True)\n",
        "training_set = train_datagen.flow_from_directory('/content/drive/MyDrive/minor_proj/train',\n",
        "                                                 target_size = (64, 64),\n",
        "                                                 batch_size = 32,\n",
        "                                                 class_mode = 'binary')"
      ],
      "execution_count": null,
      "outputs": [
        {
          "output_type": "stream",
          "text": [
            "Found 200 images belonging to 2 classes.\n"
          ],
          "name": "stdout"
        }
      ]
    },
    {
      "cell_type": "code",
      "metadata": {
        "id": "PNxGLbpDQzKb",
        "colab": {
          "base_uri": "https://localhost:8080/"
        },
        "outputId": "755b019b-1191-41e5-de06-c6ff0ad7ec21"
      },
      "source": [
        "test_datagen = ImageDataGenerator(rescale = 1./255)\n",
        "test_set = test_datagen.flow_from_directory('/content/drive/MyDrive/minor_proj/validation',\n",
        "                                            target_size = (64, 64),\n",
        "                                            batch_size = 32,\n",
        "                                            class_mode = 'binary')"
      ],
      "execution_count": null,
      "outputs": [
        {
          "output_type": "stream",
          "text": [
            "Found 129 images belonging to 2 classes.\n"
          ],
          "name": "stdout"
        }
      ]
    },
    {
      "cell_type": "code",
      "metadata": {
        "id": "KD_MKeE9Qzn0"
      },
      "source": [
        "import tensorflow as tf\n",
        "from keras.preprocessing.image import ImageDataGenerator"
      ],
      "execution_count": null,
      "outputs": []
    },
    {
      "cell_type": "code",
      "metadata": {
        "id": "66BbRtFEQ3RL"
      },
      "source": [
        "cnn = tf.keras.models.Sequential()\n",
        "cnn.add(tf.keras.layers.Conv2D(filters=32, kernel_size=3, activation='relu', input_shape=[64, 64, 3]))\n",
        "cnn.add(tf.keras.layers.MaxPool2D(pool_size=2, strides=2))\n",
        "\n",
        "cnn.add(tf.keras.layers.Conv2D(filters=32, kernel_size=3, activation='relu'))\n",
        "cnn.add(tf.keras.layers.MaxPool2D(pool_size=2, strides=2))\n",
        "\n",
        "cnn.add(tf.keras.layers.Conv2D(filters=32, kernel_size=3, activation='relu'))\n",
        "cnn.add(tf.keras.layers.MaxPool2D(pool_size=2, strides=2))\n",
        "\n",
        "cnn.add(tf.keras.layers.Flatten())\n",
        "\n",
        "cnn.add(tf.keras.layers.Dense(units=128, activation='relu'))\n",
        "\n",
        "cnn.add(tf.keras.layers.Dense(units=1, activation='sigmoid'))\n",
        "\n"
      ],
      "execution_count": null,
      "outputs": []
    },
    {
      "cell_type": "code",
      "metadata": {
        "colab": {
          "base_uri": "https://localhost:8080/"
        },
        "id": "LQ-dV3EZk2kq",
        "outputId": "3eb00f5a-8ca4-4801-efaf-3d64dd6b1b86"
      },
      "source": [
        "cnn.summary()"
      ],
      "execution_count": null,
      "outputs": [
        {
          "output_type": "stream",
          "text": [
            "Model: \"sequential\"\n",
            "_________________________________________________________________\n",
            "Layer (type)                 Output Shape              Param #   \n",
            "=================================================================\n",
            "conv2d (Conv2D)              (None, 62, 62, 32)        896       \n",
            "_________________________________________________________________\n",
            "max_pooling2d (MaxPooling2D) (None, 31, 31, 32)        0         \n",
            "_________________________________________________________________\n",
            "conv2d_1 (Conv2D)            (None, 29, 29, 32)        9248      \n",
            "_________________________________________________________________\n",
            "max_pooling2d_1 (MaxPooling2 (None, 14, 14, 32)        0         \n",
            "_________________________________________________________________\n",
            "conv2d_2 (Conv2D)            (None, 12, 12, 32)        9248      \n",
            "_________________________________________________________________\n",
            "max_pooling2d_2 (MaxPooling2 (None, 6, 6, 32)          0         \n",
            "_________________________________________________________________\n",
            "flatten (Flatten)            (None, 1152)              0         \n",
            "_________________________________________________________________\n",
            "dense (Dense)                (None, 128)               147584    \n",
            "_________________________________________________________________\n",
            "dense_1 (Dense)              (None, 1)                 129       \n",
            "=================================================================\n",
            "Total params: 167,105\n",
            "Trainable params: 167,105\n",
            "Non-trainable params: 0\n",
            "_________________________________________________________________\n"
          ],
          "name": "stdout"
        }
      ]
    },
    {
      "cell_type": "code",
      "metadata": {
        "id": "cVJQBVp8Q5IU",
        "colab": {
          "base_uri": "https://localhost:8080/"
        },
        "outputId": "bd0e233d-9f4f-47be-a657-9542c82713c6"
      },
      "source": [
        "cnn.compile(optimizer = 'adam', loss = 'binary_crossentropy', metrics = ['accuracy'])\n",
        "\n",
        "cnn.fit(x = training_set, validation_data = test_set, epochs = 10)"
      ],
      "execution_count": null,
      "outputs": [
        {
          "output_type": "stream",
          "text": [
            "Epoch 1/10\n",
            "7/7 [==============================] - 3s 314ms/step - loss: 0.3605 - accuracy: 0.9356 - val_loss: 2.6223e-04 - val_accuracy: 1.0000\n",
            "Epoch 2/10\n",
            "7/7 [==============================] - 2s 252ms/step - loss: 1.0283e-04 - accuracy: 1.0000 - val_loss: 3.5032e-08 - val_accuracy: 1.0000\n",
            "Epoch 3/10\n",
            "7/7 [==============================] - 2s 297ms/step - loss: 8.8778e-09 - accuracy: 1.0000 - val_loss: 2.6042e-11 - val_accuracy: 1.0000\n",
            "Epoch 4/10\n",
            "7/7 [==============================] - 2s 301ms/step - loss: 7.8197e-12 - accuracy: 1.0000 - val_loss: 2.2073e-13 - val_accuracy: 1.0000\n",
            "Epoch 5/10\n",
            "7/7 [==============================] - 2s 295ms/step - loss: 6.7781e-14 - accuracy: 1.0000 - val_loss: 1.3286e-14 - val_accuracy: 1.0000\n",
            "Epoch 6/10\n",
            "7/7 [==============================] - 2s 255ms/step - loss: 7.4703e-16 - accuracy: 1.0000 - val_loss: 2.8124e-15 - val_accuracy: 1.0000\n",
            "Epoch 7/10\n",
            "7/7 [==============================] - 2s 262ms/step - loss: 1.0728e-15 - accuracy: 1.0000 - val_loss: 1.2301e-15 - val_accuracy: 1.0000\n",
            "Epoch 8/10\n",
            "7/7 [==============================] - 2s 269ms/step - loss: 2.8077e-14 - accuracy: 1.0000 - val_loss: 7.9972e-16 - val_accuracy: 1.0000\n",
            "Epoch 9/10\n",
            "7/7 [==============================] - 2s 268ms/step - loss: 2.0256e-15 - accuracy: 1.0000 - val_loss: 6.4116e-16 - val_accuracy: 1.0000\n",
            "Epoch 10/10\n",
            "7/7 [==============================] - 2s 259ms/step - loss: 1.0059e-16 - accuracy: 1.0000 - val_loss: 5.7306e-16 - val_accuracy: 1.0000\n"
          ],
          "name": "stdout"
        },
        {
          "output_type": "execute_result",
          "data": {
            "text/plain": [
              "<tensorflow.python.keras.callbacks.History at 0x7ffa2a619750>"
            ]
          },
          "metadata": {
            "tags": []
          },
          "execution_count": 13
        }
      ]
    },
    {
      "cell_type": "code",
      "metadata": {
        "id": "ujFZ8wbMQ89c",
        "colab": {
          "base_uri": "https://localhost:8080/"
        },
        "outputId": "f2f69641-c548-4057-9a3b-158fa037846f"
      },
      "source": [
        "label_map = (training_set.class_indices)\n",
        "label_map"
      ],
      "execution_count": null,
      "outputs": [
        {
          "output_type": "execute_result",
          "data": {
            "text/plain": [
              "{'mask': 0, 'no_mask': 1}"
            ]
          },
          "metadata": {
            "tags": []
          },
          "execution_count": 14
        }
      ]
    },
    {
      "cell_type": "code",
      "metadata": {
        "id": "tj5qeC1wlT0E"
      },
      "source": [
        "cnn.save('/content/drive/MyDrive/minor_proj/cnn_model.h5')"
      ],
      "execution_count": null,
      "outputs": []
    }
  ]
}