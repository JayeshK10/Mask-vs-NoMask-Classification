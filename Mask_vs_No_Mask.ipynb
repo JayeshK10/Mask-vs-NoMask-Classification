{
  "nbformat": 4,
  "nbformat_minor": 0,
  "metadata": {
    "colab": {
      "name": "Mask_vs_No_Mask.ipynb",
      "provenance": [],
      "collapsed_sections": [
        "CsUz6_T-U2kz",
        "pQeExlR2osVF",
        "OGYEp_3MCJeP",
        "23-yPp-gCWxi",
        "Rn5E2MJYvPg2"
      ],
      "authorship_tag": "ABX9TyNq1hnWAy5SL5mtv2jhvzjA",
      "include_colab_link": true
    },
    "kernelspec": {
      "name": "python3",
      "display_name": "Python 3"
    },
    "language_info": {
      "name": "python"
    }
  },
  "cells": [
    {
      "cell_type": "markdown",
      "metadata": {
        "id": "view-in-github",
        "colab_type": "text"
      },
      "source": [
        "<a href=\"https://colab.research.google.com/github/JayeshK10/Mask-vs-NoMask-Classification/blob/main/Mask_vs_No_Mask.ipynb\" target=\"_parent\"><img src=\"https://colab.research.google.com/assets/colab-badge.svg\" alt=\"Open In Colab\"/></a>"
      ]
    },
    {
      "cell_type": "code",
      "metadata": {
        "id": "1OSz6tvKByjc"
      },
      "source": [
        ""
      ],
      "execution_count": null,
      "outputs": []
    },
    {
      "cell_type": "markdown",
      "metadata": {
        "id": "CsUz6_T-U2kz"
      },
      "source": [
        "# Dependencies"
      ]
    },
    {
      "cell_type": "code",
      "metadata": {
        "id": "v1RqSuNipKS-"
      },
      "source": [
        "import pandas as pd\n",
        "import numpy as np\n",
        "import matplotlib.pyplot as plt\n",
        "import seaborn as sns\n",
        "import matplotlib.image as mpimg\n",
        "import shutil\n",
        "import random\n",
        "import pickle\n",
        "\n",
        "\n",
        "from sklearn.model_selection import train_test_split\n",
        "from sklearn.metrics import accuracy_score, confusion_matrix, f1_score, precision_score, recall_score, classification_report\n",
        "\n",
        "from sklearn.preprocessing import StandardScaler\n",
        "from sklearn.decomposition import PCA\n",
        "from numpy import linalg as LA\n",
        "from sklearn.neural_network import MLPClassifier\n",
        "from sklearn.svm import SVC\n",
        "from sklearn.discriminant_analysis import LinearDiscriminantAnalysis as LDA\n",
        "from sklearn.neighbors import KNeighborsClassifier\n",
        "from sklearn.model_selection import cross_val_score\n",
        "from sklearn.ensemble import RandomForestClassifier\n",
        "\n",
        "import keras\n",
        "from keras.models import Sequential\n",
        "from keras.layers.convolutional import Conv2D\n",
        "from keras.layers import MaxPooling2D\n",
        "from keras.layers import Flatten\n",
        "from keras.layers import Dense\n",
        "from keras.layers import Dropout\n",
        "from keras.utils import np_utils\n",
        "\n",
        "import os\n",
        "import tensorflow as tf\n",
        "from tensorflow.keras import layers\n",
        "from tensorflow.keras.models import Sequential\n",
        "\n",
        "import cv2\n",
        "import matplotlib.image as mpimg\n",
        "import glob \n",
        "import shutil"
      ],
      "execution_count": null,
      "outputs": []
    },
    {
      "cell_type": "markdown",
      "metadata": {
        "id": "pQeExlR2osVF"
      },
      "source": [
        "# Loading Data"
      ]
    },
    {
      "cell_type": "code",
      "metadata": {
        "id": "75jOlQHL2kWp"
      },
      "source": [
        "face_data_path = '/content/drive/MyDrive/Data_set/Mini_Proj/AFDB_face_dataset/*/*'\n",
        "mask_data_path = '/content/drive/MyDrive/Data_set/Mini_Proj/AFDB_masked_face_dataset/*/*'\n",
        "\n",
        "def image_loader(folder):\n",
        "  img_path = []\n",
        "  for img in glob.glob(folder):\n",
        "    img_path.append(str(img))\n",
        "  return img_path\n",
        "\n",
        "no_mask_images = image_loader(face_data_path)\n",
        "mask_images = image_loader(mask_data_path)"
      ],
      "execution_count": null,
      "outputs": []
    },
    {
      "cell_type": "code",
      "metadata": {
        "colab": {
          "base_uri": "https://localhost:8080/"
        },
        "id": "jTmo_m1k6chS",
        "outputId": "02bb090c-17a9-4203-c77c-2ea86a91e019"
      },
      "source": [
        "a = len(mask_images) if (len(no_mask_images) > len(mask_images)) else len(no_mask_images) \n",
        "no_mask_img = no_mask_images[0:a]\n",
        "mask_img = mask_images[0:a]\n",
        "print('Number of no_mask images' , len(no_mask_img))\n",
        "print('Number of mask images' , len(mask_img))"
      ],
      "execution_count": null,
      "outputs": [
        {
          "output_type": "stream",
          "text": [
            "Number of no_mask images 2203\n",
            "Number of mask images 2203\n"
          ],
          "name": "stdout"
        }
      ]
    },
    {
      "cell_type": "code",
      "metadata": {
        "id": "oA5giwucSUn0"
      },
      "source": [
        "def feature_extraction (dir_path , label_value):\n",
        "  data = []\n",
        "  label = []\n",
        "  #img_list = []\n",
        "  for filename in dir_path:\n",
        "    img = mpimg.imread(filename)\n",
        "    if img is not None:\n",
        "      #img_list.append(img)\n",
        "      gray_img = cv2.cvtColor(img, cv2.COLOR_RGB2GRAY)\n",
        "      resized = cv2.resize(gray_img,(28, 28), interpolation=cv2.INTER_CUBIC)\n",
        "      # cv2_imshow(resized)\n",
        "      data.append(resized.flatten())\n",
        "      label.append(label_value)\n",
        "  return data , label"
      ],
      "execution_count": null,
      "outputs": []
    },
    {
      "cell_type": "code",
      "metadata": {
        "id": "jZ5s4p1FtMga"
      },
      "source": [
        "data_no_mask , label_no_mask = feature_extraction(no_mask_img , 0)\n",
        "data_mask , label_mask = feature_extraction(mask_img , 1)"
      ],
      "execution_count": null,
      "outputs": []
    },
    {
      "cell_type": "markdown",
      "metadata": {
        "id": "OGYEp_3MCJeP"
      },
      "source": [
        "# Creating Laten Vector from Images"
      ]
    },
    {
      "cell_type": "code",
      "metadata": {
        "id": "o6WaN6FTxwF0"
      },
      "source": [
        "X = data_no_mask + data_mask\n",
        "Y = label_no_mask + label_mask"
      ],
      "execution_count": null,
      "outputs": []
    },
    {
      "cell_type": "code",
      "metadata": {
        "colab": {
          "base_uri": "https://localhost:8080/"
        },
        "id": "_sDhxWUZyJEP",
        "outputId": "6e230e24-f657-4e1e-86a0-c57ad3189794"
      },
      "source": [
        "if len(X) == len(Y):\n",
        "  print('Number of data values: ' , len(X))\n",
        "\n",
        "print('Number of features' , len(X[0]))"
      ],
      "execution_count": null,
      "outputs": [
        {
          "output_type": "stream",
          "text": [
            "Number of data values:  4406\n",
            "Number of features 784\n"
          ],
          "name": "stdout"
        }
      ]
    },
    {
      "cell_type": "code",
      "metadata": {
        "colab": {
          "base_uri": "https://localhost:8080/"
        },
        "id": "yhmc6Uowyf8V",
        "outputId": "ce3ef274-cbdb-4a4a-930a-523e3197d71f"
      },
      "source": [
        "X_df = pd.DataFrame(X, columns = list(range(0 , len(X[0]))))\n",
        "Y_df = pd.DataFrame(Y , columns = ['Label'])\n",
        "\n",
        "df = pd.concat([X_df, Y_df], axis=1)\n",
        "df.head()"
      ],
      "execution_count": null,
      "outputs": [
        {
          "output_type": "execute_result",
          "data": {
            "text/html": [
              "<div>\n",
              "<style scoped>\n",
              "    .dataframe tbody tr th:only-of-type {\n",
              "        vertical-align: middle;\n",
              "    }\n",
              "\n",
              "    .dataframe tbody tr th {\n",
              "        vertical-align: top;\n",
              "    }\n",
              "\n",
              "    .dataframe thead th {\n",
              "        text-align: right;\n",
              "    }\n",
              "</style>\n",
              "<table border=\"1\" class=\"dataframe\">\n",
              "  <thead>\n",
              "    <tr style=\"text-align: right;\">\n",
              "      <th></th>\n",
              "      <th>0</th>\n",
              "      <th>1</th>\n",
              "      <th>2</th>\n",
              "      <th>3</th>\n",
              "      <th>4</th>\n",
              "      <th>5</th>\n",
              "      <th>6</th>\n",
              "      <th>7</th>\n",
              "      <th>8</th>\n",
              "      <th>9</th>\n",
              "      <th>10</th>\n",
              "      <th>11</th>\n",
              "      <th>12</th>\n",
              "      <th>13</th>\n",
              "      <th>14</th>\n",
              "      <th>15</th>\n",
              "      <th>16</th>\n",
              "      <th>17</th>\n",
              "      <th>18</th>\n",
              "      <th>19</th>\n",
              "      <th>20</th>\n",
              "      <th>21</th>\n",
              "      <th>22</th>\n",
              "      <th>23</th>\n",
              "      <th>24</th>\n",
              "      <th>25</th>\n",
              "      <th>26</th>\n",
              "      <th>27</th>\n",
              "      <th>28</th>\n",
              "      <th>29</th>\n",
              "      <th>30</th>\n",
              "      <th>31</th>\n",
              "      <th>32</th>\n",
              "      <th>33</th>\n",
              "      <th>34</th>\n",
              "      <th>35</th>\n",
              "      <th>36</th>\n",
              "      <th>37</th>\n",
              "      <th>38</th>\n",
              "      <th>39</th>\n",
              "      <th>...</th>\n",
              "      <th>745</th>\n",
              "      <th>746</th>\n",
              "      <th>747</th>\n",
              "      <th>748</th>\n",
              "      <th>749</th>\n",
              "      <th>750</th>\n",
              "      <th>751</th>\n",
              "      <th>752</th>\n",
              "      <th>753</th>\n",
              "      <th>754</th>\n",
              "      <th>755</th>\n",
              "      <th>756</th>\n",
              "      <th>757</th>\n",
              "      <th>758</th>\n",
              "      <th>759</th>\n",
              "      <th>760</th>\n",
              "      <th>761</th>\n",
              "      <th>762</th>\n",
              "      <th>763</th>\n",
              "      <th>764</th>\n",
              "      <th>765</th>\n",
              "      <th>766</th>\n",
              "      <th>767</th>\n",
              "      <th>768</th>\n",
              "      <th>769</th>\n",
              "      <th>770</th>\n",
              "      <th>771</th>\n",
              "      <th>772</th>\n",
              "      <th>773</th>\n",
              "      <th>774</th>\n",
              "      <th>775</th>\n",
              "      <th>776</th>\n",
              "      <th>777</th>\n",
              "      <th>778</th>\n",
              "      <th>779</th>\n",
              "      <th>780</th>\n",
              "      <th>781</th>\n",
              "      <th>782</th>\n",
              "      <th>783</th>\n",
              "      <th>Label</th>\n",
              "    </tr>\n",
              "  </thead>\n",
              "  <tbody>\n",
              "    <tr>\n",
              "      <th>0</th>\n",
              "      <td>46.0</td>\n",
              "      <td>47.0</td>\n",
              "      <td>41.0</td>\n",
              "      <td>41.0</td>\n",
              "      <td>37.0</td>\n",
              "      <td>44.0</td>\n",
              "      <td>38.0</td>\n",
              "      <td>42.0</td>\n",
              "      <td>45.0</td>\n",
              "      <td>39.0</td>\n",
              "      <td>41.0</td>\n",
              "      <td>38.0</td>\n",
              "      <td>40.0</td>\n",
              "      <td>47.0</td>\n",
              "      <td>55.0</td>\n",
              "      <td>61.0</td>\n",
              "      <td>78.0</td>\n",
              "      <td>67.0</td>\n",
              "      <td>68.0</td>\n",
              "      <td>95.0</td>\n",
              "      <td>109.0</td>\n",
              "      <td>80.0</td>\n",
              "      <td>68.0</td>\n",
              "      <td>55.0</td>\n",
              "      <td>43.0</td>\n",
              "      <td>52.0</td>\n",
              "      <td>53.0</td>\n",
              "      <td>49.0</td>\n",
              "      <td>39.0</td>\n",
              "      <td>38.0</td>\n",
              "      <td>32.0</td>\n",
              "      <td>33.0</td>\n",
              "      <td>39.0</td>\n",
              "      <td>40.0</td>\n",
              "      <td>38.0</td>\n",
              "      <td>34.0</td>\n",
              "      <td>33.0</td>\n",
              "      <td>45.0</td>\n",
              "      <td>36.0</td>\n",
              "      <td>26.0</td>\n",
              "      <td>...</td>\n",
              "      <td>220.0</td>\n",
              "      <td>195.0</td>\n",
              "      <td>48.0</td>\n",
              "      <td>33.0</td>\n",
              "      <td>18.0</td>\n",
              "      <td>22.0</td>\n",
              "      <td>39.0</td>\n",
              "      <td>50.0</td>\n",
              "      <td>59.0</td>\n",
              "      <td>59.0</td>\n",
              "      <td>55.0</td>\n",
              "      <td>188.0</td>\n",
              "      <td>177.0</td>\n",
              "      <td>175.0</td>\n",
              "      <td>177.0</td>\n",
              "      <td>177.0</td>\n",
              "      <td>177.0</td>\n",
              "      <td>178.0</td>\n",
              "      <td>182.0</td>\n",
              "      <td>190.0</td>\n",
              "      <td>189.0</td>\n",
              "      <td>190.0</td>\n",
              "      <td>194.0</td>\n",
              "      <td>200.0</td>\n",
              "      <td>199.0</td>\n",
              "      <td>212.0</td>\n",
              "      <td>215.0</td>\n",
              "      <td>209.0</td>\n",
              "      <td>182.0</td>\n",
              "      <td>45.0</td>\n",
              "      <td>8.0</td>\n",
              "      <td>31.0</td>\n",
              "      <td>32.0</td>\n",
              "      <td>26.0</td>\n",
              "      <td>23.0</td>\n",
              "      <td>45.0</td>\n",
              "      <td>62.0</td>\n",
              "      <td>58.0</td>\n",
              "      <td>54.0</td>\n",
              "      <td>0</td>\n",
              "    </tr>\n",
              "    <tr>\n",
              "      <th>1</th>\n",
              "      <td>15.0</td>\n",
              "      <td>6.0</td>\n",
              "      <td>15.0</td>\n",
              "      <td>10.0</td>\n",
              "      <td>19.0</td>\n",
              "      <td>18.0</td>\n",
              "      <td>6.0</td>\n",
              "      <td>6.0</td>\n",
              "      <td>9.0</td>\n",
              "      <td>7.0</td>\n",
              "      <td>5.0</td>\n",
              "      <td>6.0</td>\n",
              "      <td>7.0</td>\n",
              "      <td>11.0</td>\n",
              "      <td>7.0</td>\n",
              "      <td>10.0</td>\n",
              "      <td>13.0</td>\n",
              "      <td>14.0</td>\n",
              "      <td>8.0</td>\n",
              "      <td>9.0</td>\n",
              "      <td>1.0</td>\n",
              "      <td>3.0</td>\n",
              "      <td>3.0</td>\n",
              "      <td>3.0</td>\n",
              "      <td>1.0</td>\n",
              "      <td>7.0</td>\n",
              "      <td>8.0</td>\n",
              "      <td>7.0</td>\n",
              "      <td>18.0</td>\n",
              "      <td>14.0</td>\n",
              "      <td>10.0</td>\n",
              "      <td>15.0</td>\n",
              "      <td>14.0</td>\n",
              "      <td>16.0</td>\n",
              "      <td>9.0</td>\n",
              "      <td>4.0</td>\n",
              "      <td>11.0</td>\n",
              "      <td>7.0</td>\n",
              "      <td>8.0</td>\n",
              "      <td>7.0</td>\n",
              "      <td>...</td>\n",
              "      <td>189.0</td>\n",
              "      <td>187.0</td>\n",
              "      <td>187.0</td>\n",
              "      <td>188.0</td>\n",
              "      <td>184.0</td>\n",
              "      <td>179.0</td>\n",
              "      <td>178.0</td>\n",
              "      <td>175.0</td>\n",
              "      <td>168.0</td>\n",
              "      <td>162.0</td>\n",
              "      <td>161.0</td>\n",
              "      <td>26.0</td>\n",
              "      <td>62.0</td>\n",
              "      <td>82.0</td>\n",
              "      <td>90.0</td>\n",
              "      <td>78.0</td>\n",
              "      <td>37.0</td>\n",
              "      <td>38.0</td>\n",
              "      <td>184.0</td>\n",
              "      <td>186.0</td>\n",
              "      <td>194.0</td>\n",
              "      <td>191.0</td>\n",
              "      <td>202.0</td>\n",
              "      <td>200.0</td>\n",
              "      <td>195.0</td>\n",
              "      <td>195.0</td>\n",
              "      <td>193.0</td>\n",
              "      <td>188.0</td>\n",
              "      <td>188.0</td>\n",
              "      <td>183.0</td>\n",
              "      <td>183.0</td>\n",
              "      <td>184.0</td>\n",
              "      <td>181.0</td>\n",
              "      <td>178.0</td>\n",
              "      <td>179.0</td>\n",
              "      <td>174.0</td>\n",
              "      <td>168.0</td>\n",
              "      <td>163.0</td>\n",
              "      <td>154.0</td>\n",
              "      <td>0</td>\n",
              "    </tr>\n",
              "    <tr>\n",
              "      <th>2</th>\n",
              "      <td>177.0</td>\n",
              "      <td>136.0</td>\n",
              "      <td>115.0</td>\n",
              "      <td>81.0</td>\n",
              "      <td>68.0</td>\n",
              "      <td>53.0</td>\n",
              "      <td>75.0</td>\n",
              "      <td>77.0</td>\n",
              "      <td>64.0</td>\n",
              "      <td>59.0</td>\n",
              "      <td>47.0</td>\n",
              "      <td>36.0</td>\n",
              "      <td>68.0</td>\n",
              "      <td>66.0</td>\n",
              "      <td>52.0</td>\n",
              "      <td>43.0</td>\n",
              "      <td>36.0</td>\n",
              "      <td>38.0</td>\n",
              "      <td>46.0</td>\n",
              "      <td>37.0</td>\n",
              "      <td>40.0</td>\n",
              "      <td>34.0</td>\n",
              "      <td>45.0</td>\n",
              "      <td>48.0</td>\n",
              "      <td>45.0</td>\n",
              "      <td>39.0</td>\n",
              "      <td>44.0</td>\n",
              "      <td>45.0</td>\n",
              "      <td>156.0</td>\n",
              "      <td>134.0</td>\n",
              "      <td>96.0</td>\n",
              "      <td>62.0</td>\n",
              "      <td>59.0</td>\n",
              "      <td>67.0</td>\n",
              "      <td>104.0</td>\n",
              "      <td>51.0</td>\n",
              "      <td>46.0</td>\n",
              "      <td>47.0</td>\n",
              "      <td>43.0</td>\n",
              "      <td>71.0</td>\n",
              "      <td>...</td>\n",
              "      <td>142.0</td>\n",
              "      <td>139.0</td>\n",
              "      <td>135.0</td>\n",
              "      <td>133.0</td>\n",
              "      <td>124.0</td>\n",
              "      <td>108.0</td>\n",
              "      <td>76.0</td>\n",
              "      <td>108.0</td>\n",
              "      <td>109.0</td>\n",
              "      <td>99.0</td>\n",
              "      <td>88.0</td>\n",
              "      <td>248.0</td>\n",
              "      <td>250.0</td>\n",
              "      <td>247.0</td>\n",
              "      <td>225.0</td>\n",
              "      <td>184.0</td>\n",
              "      <td>213.0</td>\n",
              "      <td>147.0</td>\n",
              "      <td>51.0</td>\n",
              "      <td>51.0</td>\n",
              "      <td>201.0</td>\n",
              "      <td>192.0</td>\n",
              "      <td>187.0</td>\n",
              "      <td>177.0</td>\n",
              "      <td>165.0</td>\n",
              "      <td>156.0</td>\n",
              "      <td>152.0</td>\n",
              "      <td>145.0</td>\n",
              "      <td>142.0</td>\n",
              "      <td>135.0</td>\n",
              "      <td>134.0</td>\n",
              "      <td>122.0</td>\n",
              "      <td>99.0</td>\n",
              "      <td>90.0</td>\n",
              "      <td>114.0</td>\n",
              "      <td>115.0</td>\n",
              "      <td>108.0</td>\n",
              "      <td>107.0</td>\n",
              "      <td>94.0</td>\n",
              "      <td>0</td>\n",
              "    </tr>\n",
              "    <tr>\n",
              "      <th>3</th>\n",
              "      <td>106.0</td>\n",
              "      <td>53.0</td>\n",
              "      <td>12.0</td>\n",
              "      <td>9.0</td>\n",
              "      <td>19.0</td>\n",
              "      <td>11.0</td>\n",
              "      <td>10.0</td>\n",
              "      <td>9.0</td>\n",
              "      <td>11.0</td>\n",
              "      <td>11.0</td>\n",
              "      <td>13.0</td>\n",
              "      <td>13.0</td>\n",
              "      <td>13.0</td>\n",
              "      <td>9.0</td>\n",
              "      <td>6.0</td>\n",
              "      <td>18.0</td>\n",
              "      <td>12.0</td>\n",
              "      <td>14.0</td>\n",
              "      <td>11.0</td>\n",
              "      <td>6.0</td>\n",
              "      <td>13.0</td>\n",
              "      <td>11.0</td>\n",
              "      <td>18.0</td>\n",
              "      <td>13.0</td>\n",
              "      <td>24.0</td>\n",
              "      <td>14.0</td>\n",
              "      <td>8.0</td>\n",
              "      <td>16.0</td>\n",
              "      <td>87.0</td>\n",
              "      <td>15.0</td>\n",
              "      <td>15.0</td>\n",
              "      <td>19.0</td>\n",
              "      <td>16.0</td>\n",
              "      <td>14.0</td>\n",
              "      <td>10.0</td>\n",
              "      <td>5.0</td>\n",
              "      <td>5.0</td>\n",
              "      <td>9.0</td>\n",
              "      <td>8.0</td>\n",
              "      <td>12.0</td>\n",
              "      <td>...</td>\n",
              "      <td>98.0</td>\n",
              "      <td>66.0</td>\n",
              "      <td>48.0</td>\n",
              "      <td>32.0</td>\n",
              "      <td>43.0</td>\n",
              "      <td>47.0</td>\n",
              "      <td>53.0</td>\n",
              "      <td>69.0</td>\n",
              "      <td>70.0</td>\n",
              "      <td>81.0</td>\n",
              "      <td>7.0</td>\n",
              "      <td>136.0</td>\n",
              "      <td>112.0</td>\n",
              "      <td>84.0</td>\n",
              "      <td>63.0</td>\n",
              "      <td>14.0</td>\n",
              "      <td>74.0</td>\n",
              "      <td>176.0</td>\n",
              "      <td>221.0</td>\n",
              "      <td>146.0</td>\n",
              "      <td>135.0</td>\n",
              "      <td>158.0</td>\n",
              "      <td>165.0</td>\n",
              "      <td>147.0</td>\n",
              "      <td>126.0</td>\n",
              "      <td>89.0</td>\n",
              "      <td>58.0</td>\n",
              "      <td>47.0</td>\n",
              "      <td>36.0</td>\n",
              "      <td>26.0</td>\n",
              "      <td>48.0</td>\n",
              "      <td>73.0</td>\n",
              "      <td>92.0</td>\n",
              "      <td>112.0</td>\n",
              "      <td>120.0</td>\n",
              "      <td>91.0</td>\n",
              "      <td>75.0</td>\n",
              "      <td>28.0</td>\n",
              "      <td>178.0</td>\n",
              "      <td>0</td>\n",
              "    </tr>\n",
              "    <tr>\n",
              "      <th>4</th>\n",
              "      <td>23.0</td>\n",
              "      <td>20.0</td>\n",
              "      <td>27.0</td>\n",
              "      <td>35.0</td>\n",
              "      <td>36.0</td>\n",
              "      <td>34.0</td>\n",
              "      <td>37.0</td>\n",
              "      <td>46.0</td>\n",
              "      <td>52.0</td>\n",
              "      <td>46.0</td>\n",
              "      <td>40.0</td>\n",
              "      <td>44.0</td>\n",
              "      <td>52.0</td>\n",
              "      <td>61.0</td>\n",
              "      <td>87.0</td>\n",
              "      <td>106.0</td>\n",
              "      <td>119.0</td>\n",
              "      <td>126.0</td>\n",
              "      <td>134.0</td>\n",
              "      <td>155.0</td>\n",
              "      <td>162.0</td>\n",
              "      <td>153.0</td>\n",
              "      <td>148.0</td>\n",
              "      <td>108.0</td>\n",
              "      <td>68.0</td>\n",
              "      <td>83.0</td>\n",
              "      <td>108.0</td>\n",
              "      <td>105.0</td>\n",
              "      <td>31.0</td>\n",
              "      <td>47.0</td>\n",
              "      <td>57.0</td>\n",
              "      <td>49.0</td>\n",
              "      <td>37.0</td>\n",
              "      <td>37.0</td>\n",
              "      <td>57.0</td>\n",
              "      <td>65.0</td>\n",
              "      <td>63.0</td>\n",
              "      <td>67.0</td>\n",
              "      <td>73.0</td>\n",
              "      <td>79.0</td>\n",
              "      <td>...</td>\n",
              "      <td>36.0</td>\n",
              "      <td>48.0</td>\n",
              "      <td>70.0</td>\n",
              "      <td>92.0</td>\n",
              "      <td>87.0</td>\n",
              "      <td>93.0</td>\n",
              "      <td>104.0</td>\n",
              "      <td>108.0</td>\n",
              "      <td>102.0</td>\n",
              "      <td>136.0</td>\n",
              "      <td>196.0</td>\n",
              "      <td>96.0</td>\n",
              "      <td>98.0</td>\n",
              "      <td>96.0</td>\n",
              "      <td>94.0</td>\n",
              "      <td>96.0</td>\n",
              "      <td>87.0</td>\n",
              "      <td>78.0</td>\n",
              "      <td>92.0</td>\n",
              "      <td>85.0</td>\n",
              "      <td>86.0</td>\n",
              "      <td>73.0</td>\n",
              "      <td>50.0</td>\n",
              "      <td>71.0</td>\n",
              "      <td>80.0</td>\n",
              "      <td>74.0</td>\n",
              "      <td>82.0</td>\n",
              "      <td>76.0</td>\n",
              "      <td>78.0</td>\n",
              "      <td>91.0</td>\n",
              "      <td>97.0</td>\n",
              "      <td>107.0</td>\n",
              "      <td>98.0</td>\n",
              "      <td>96.0</td>\n",
              "      <td>113.0</td>\n",
              "      <td>87.0</td>\n",
              "      <td>64.0</td>\n",
              "      <td>79.0</td>\n",
              "      <td>113.0</td>\n",
              "      <td>0</td>\n",
              "    </tr>\n",
              "  </tbody>\n",
              "</table>\n",
              "<p>5 rows × 785 columns</p>\n",
              "</div>"
            ],
            "text/plain": [
              "       0      1      2     3     4  ...    780    781    782    783  Label\n",
              "0   46.0   47.0   41.0  41.0  37.0  ...   45.0   62.0   58.0   54.0      0\n",
              "1   15.0    6.0   15.0  10.0  19.0  ...  174.0  168.0  163.0  154.0      0\n",
              "2  177.0  136.0  115.0  81.0  68.0  ...  115.0  108.0  107.0   94.0      0\n",
              "3  106.0   53.0   12.0   9.0  19.0  ...   91.0   75.0   28.0  178.0      0\n",
              "4   23.0   20.0   27.0  35.0  36.0  ...   87.0   64.0   79.0  113.0      0\n",
              "\n",
              "[5 rows x 785 columns]"
            ]
          },
          "metadata": {
            "tags": []
          },
          "execution_count": 10
        }
      ]
    },
    {
      "cell_type": "markdown",
      "metadata": {
        "id": "23-yPp-gCWxi"
      },
      "source": [
        "# Data preprocessing"
      ]
    },
    {
      "cell_type": "markdown",
      "metadata": {
        "id": "ICYdKXj-BnEI"
      },
      "source": [
        "shuffle Data"
      ]
    },
    {
      "cell_type": "code",
      "metadata": {
        "id": "ScuVnsldBo_5"
      },
      "source": [
        "from sklearn.utils import shuffle\n",
        "df = shuffle(df)"
      ],
      "execution_count": null,
      "outputs": []
    },
    {
      "cell_type": "code",
      "metadata": {
        "id": "BXFRGnOiBu1i"
      },
      "source": [
        "col = df.columns\n",
        "X_Data = df[col[:-1]]\n",
        "Y_Data = df[col[-1]]"
      ],
      "execution_count": null,
      "outputs": []
    },
    {
      "cell_type": "markdown",
      "metadata": {
        "id": "--4lb7mbHjLJ"
      },
      "source": [
        "Normal Data"
      ]
    },
    {
      "cell_type": "code",
      "metadata": {
        "id": "leYG0UPbHoVg"
      },
      "source": [
        "X_train , X_ , Y_train , Y_ = train_test_split(X_Data, Y_Data, test_size=0.5, random_state=12)\n",
        "X_test , X_val , Y_test , Y_val = train_test_split(X_, Y_, test_size=0.5, random_state=12)"
      ],
      "execution_count": null,
      "outputs": []
    },
    {
      "cell_type": "markdown",
      "metadata": {
        "id": "mpL4-OeKA3d_"
      },
      "source": [
        "Standardize Data"
      ]
    },
    {
      "cell_type": "code",
      "metadata": {
        "id": "fCRaDYFX_Pq4"
      },
      "source": [
        "X_scandard = StandardScaler().fit_transform(X_Data)\n",
        "\n",
        "X_train_std , X_m , Y_train_std , Y_m = train_test_split(X_scandard, Y_Data, test_size=0.5, random_state=12)\n",
        "X_test_std , X_val_std , Y_test_std , Y_val_std = train_test_split(X_m, Y_m, test_size=0.5, random_state=12)"
      ],
      "execution_count": null,
      "outputs": []
    },
    {
      "cell_type": "markdown",
      "metadata": {
        "id": "k1jQ39XYF6m3"
      },
      "source": [
        "Dimensionality Reduction"
      ]
    },
    {
      "cell_type": "code",
      "metadata": {
        "id": "K10-277kCDPS"
      },
      "source": [
        "lda = LDA()\n",
        "lda_data = lda.fit_transform(X_Data, Y_Data)\n",
        "X_train_lda, X_m_lda, Y_train_lda, Y_m_lda = train_test_split(lda_data, Y_Data, test_size=0.5, random_state=12)\n",
        "X_test_lda , X_val_lda , Y_test_lda , Y_val_lda = train_test_split(X_m_lda, Y_m_lda, test_size=0.5, random_state=12)"
      ],
      "execution_count": null,
      "outputs": []
    },
    {
      "cell_type": "markdown",
      "metadata": {
        "id": "Rn5E2MJYvPg2"
      },
      "source": [
        "# Test Cases"
      ]
    },
    {
      "cell_type": "code",
      "metadata": {
        "colab": {
          "base_uri": "https://localhost:8080/",
          "height": 244
        },
        "id": "j6h6vErs0dcy",
        "outputId": "a4da1e9c-dc34-4bfe-ead9-0892547ae35b"
      },
      "source": [
        "X_test.head()"
      ],
      "execution_count": null,
      "outputs": [
        {
          "output_type": "execute_result",
          "data": {
            "text/html": [
              "<div>\n",
              "<style scoped>\n",
              "    .dataframe tbody tr th:only-of-type {\n",
              "        vertical-align: middle;\n",
              "    }\n",
              "\n",
              "    .dataframe tbody tr th {\n",
              "        vertical-align: top;\n",
              "    }\n",
              "\n",
              "    .dataframe thead th {\n",
              "        text-align: right;\n",
              "    }\n",
              "</style>\n",
              "<table border=\"1\" class=\"dataframe\">\n",
              "  <thead>\n",
              "    <tr style=\"text-align: right;\">\n",
              "      <th></th>\n",
              "      <th>0</th>\n",
              "      <th>1</th>\n",
              "      <th>2</th>\n",
              "      <th>3</th>\n",
              "      <th>4</th>\n",
              "      <th>5</th>\n",
              "      <th>6</th>\n",
              "      <th>7</th>\n",
              "      <th>8</th>\n",
              "      <th>9</th>\n",
              "      <th>10</th>\n",
              "      <th>11</th>\n",
              "      <th>12</th>\n",
              "      <th>13</th>\n",
              "      <th>14</th>\n",
              "      <th>15</th>\n",
              "      <th>16</th>\n",
              "      <th>17</th>\n",
              "      <th>18</th>\n",
              "      <th>19</th>\n",
              "      <th>20</th>\n",
              "      <th>21</th>\n",
              "      <th>22</th>\n",
              "      <th>23</th>\n",
              "      <th>24</th>\n",
              "      <th>25</th>\n",
              "      <th>26</th>\n",
              "      <th>27</th>\n",
              "      <th>28</th>\n",
              "      <th>29</th>\n",
              "      <th>30</th>\n",
              "      <th>31</th>\n",
              "      <th>32</th>\n",
              "      <th>33</th>\n",
              "      <th>34</th>\n",
              "      <th>35</th>\n",
              "      <th>36</th>\n",
              "      <th>37</th>\n",
              "      <th>38</th>\n",
              "      <th>39</th>\n",
              "      <th>...</th>\n",
              "      <th>744</th>\n",
              "      <th>745</th>\n",
              "      <th>746</th>\n",
              "      <th>747</th>\n",
              "      <th>748</th>\n",
              "      <th>749</th>\n",
              "      <th>750</th>\n",
              "      <th>751</th>\n",
              "      <th>752</th>\n",
              "      <th>753</th>\n",
              "      <th>754</th>\n",
              "      <th>755</th>\n",
              "      <th>756</th>\n",
              "      <th>757</th>\n",
              "      <th>758</th>\n",
              "      <th>759</th>\n",
              "      <th>760</th>\n",
              "      <th>761</th>\n",
              "      <th>762</th>\n",
              "      <th>763</th>\n",
              "      <th>764</th>\n",
              "      <th>765</th>\n",
              "      <th>766</th>\n",
              "      <th>767</th>\n",
              "      <th>768</th>\n",
              "      <th>769</th>\n",
              "      <th>770</th>\n",
              "      <th>771</th>\n",
              "      <th>772</th>\n",
              "      <th>773</th>\n",
              "      <th>774</th>\n",
              "      <th>775</th>\n",
              "      <th>776</th>\n",
              "      <th>777</th>\n",
              "      <th>778</th>\n",
              "      <th>779</th>\n",
              "      <th>780</th>\n",
              "      <th>781</th>\n",
              "      <th>782</th>\n",
              "      <th>783</th>\n",
              "    </tr>\n",
              "  </thead>\n",
              "  <tbody>\n",
              "    <tr>\n",
              "      <th>2357</th>\n",
              "      <td>67.0</td>\n",
              "      <td>126.0</td>\n",
              "      <td>150.0</td>\n",
              "      <td>151.0</td>\n",
              "      <td>78.0</td>\n",
              "      <td>78.0</td>\n",
              "      <td>67.0</td>\n",
              "      <td>114.0</td>\n",
              "      <td>160.0</td>\n",
              "      <td>166.0</td>\n",
              "      <td>170.0</td>\n",
              "      <td>138.0</td>\n",
              "      <td>159.0</td>\n",
              "      <td>144.0</td>\n",
              "      <td>100.0</td>\n",
              "      <td>88.0</td>\n",
              "      <td>76.0</td>\n",
              "      <td>73.0</td>\n",
              "      <td>68.0</td>\n",
              "      <td>62.0</td>\n",
              "      <td>58.0</td>\n",
              "      <td>50.0</td>\n",
              "      <td>45.0</td>\n",
              "      <td>43.0</td>\n",
              "      <td>38.0</td>\n",
              "      <td>37.0</td>\n",
              "      <td>34.0</td>\n",
              "      <td>59.0</td>\n",
              "      <td>121.0</td>\n",
              "      <td>156.0</td>\n",
              "      <td>162.0</td>\n",
              "      <td>166.0</td>\n",
              "      <td>83.0</td>\n",
              "      <td>74.0</td>\n",
              "      <td>56.0</td>\n",
              "      <td>138.0</td>\n",
              "      <td>174.0</td>\n",
              "      <td>183.0</td>\n",
              "      <td>186.0</td>\n",
              "      <td>150.0</td>\n",
              "      <td>...</td>\n",
              "      <td>187.0</td>\n",
              "      <td>187.0</td>\n",
              "      <td>184.0</td>\n",
              "      <td>174.0</td>\n",
              "      <td>176.0</td>\n",
              "      <td>167.0</td>\n",
              "      <td>154.0</td>\n",
              "      <td>158.0</td>\n",
              "      <td>127.0</td>\n",
              "      <td>125.0</td>\n",
              "      <td>92.0</td>\n",
              "      <td>45.0</td>\n",
              "      <td>71.0</td>\n",
              "      <td>48.0</td>\n",
              "      <td>36.0</td>\n",
              "      <td>81.0</td>\n",
              "      <td>52.0</td>\n",
              "      <td>136.0</td>\n",
              "      <td>160.0</td>\n",
              "      <td>163.0</td>\n",
              "      <td>165.0</td>\n",
              "      <td>163.0</td>\n",
              "      <td>160.0</td>\n",
              "      <td>158.0</td>\n",
              "      <td>162.0</td>\n",
              "      <td>172.0</td>\n",
              "      <td>189.0</td>\n",
              "      <td>180.0</td>\n",
              "      <td>175.0</td>\n",
              "      <td>168.0</td>\n",
              "      <td>159.0</td>\n",
              "      <td>152.0</td>\n",
              "      <td>157.0</td>\n",
              "      <td>145.0</td>\n",
              "      <td>119.0</td>\n",
              "      <td>91.0</td>\n",
              "      <td>122.0</td>\n",
              "      <td>127.0</td>\n",
              "      <td>66.0</td>\n",
              "      <td>47.0</td>\n",
              "    </tr>\n",
              "    <tr>\n",
              "      <th>415</th>\n",
              "      <td>15.0</td>\n",
              "      <td>19.0</td>\n",
              "      <td>30.0</td>\n",
              "      <td>34.0</td>\n",
              "      <td>29.0</td>\n",
              "      <td>33.0</td>\n",
              "      <td>49.0</td>\n",
              "      <td>39.0</td>\n",
              "      <td>36.0</td>\n",
              "      <td>45.0</td>\n",
              "      <td>30.0</td>\n",
              "      <td>41.0</td>\n",
              "      <td>52.0</td>\n",
              "      <td>34.0</td>\n",
              "      <td>66.0</td>\n",
              "      <td>41.0</td>\n",
              "      <td>39.0</td>\n",
              "      <td>58.0</td>\n",
              "      <td>33.0</td>\n",
              "      <td>66.0</td>\n",
              "      <td>33.0</td>\n",
              "      <td>31.0</td>\n",
              "      <td>40.0</td>\n",
              "      <td>30.0</td>\n",
              "      <td>23.0</td>\n",
              "      <td>38.0</td>\n",
              "      <td>52.0</td>\n",
              "      <td>62.0</td>\n",
              "      <td>23.0</td>\n",
              "      <td>22.0</td>\n",
              "      <td>30.0</td>\n",
              "      <td>26.0</td>\n",
              "      <td>21.0</td>\n",
              "      <td>18.0</td>\n",
              "      <td>40.0</td>\n",
              "      <td>33.0</td>\n",
              "      <td>25.0</td>\n",
              "      <td>22.0</td>\n",
              "      <td>25.0</td>\n",
              "      <td>31.0</td>\n",
              "      <td>...</td>\n",
              "      <td>126.0</td>\n",
              "      <td>100.0</td>\n",
              "      <td>86.0</td>\n",
              "      <td>90.0</td>\n",
              "      <td>87.0</td>\n",
              "      <td>83.0</td>\n",
              "      <td>89.0</td>\n",
              "      <td>105.0</td>\n",
              "      <td>106.0</td>\n",
              "      <td>113.0</td>\n",
              "      <td>112.0</td>\n",
              "      <td>114.0</td>\n",
              "      <td>10.0</td>\n",
              "      <td>9.0</td>\n",
              "      <td>10.0</td>\n",
              "      <td>10.0</td>\n",
              "      <td>9.0</td>\n",
              "      <td>8.0</td>\n",
              "      <td>6.0</td>\n",
              "      <td>9.0</td>\n",
              "      <td>19.0</td>\n",
              "      <td>140.0</td>\n",
              "      <td>141.0</td>\n",
              "      <td>141.0</td>\n",
              "      <td>125.0</td>\n",
              "      <td>128.0</td>\n",
              "      <td>133.0</td>\n",
              "      <td>131.0</td>\n",
              "      <td>141.0</td>\n",
              "      <td>142.0</td>\n",
              "      <td>131.0</td>\n",
              "      <td>106.0</td>\n",
              "      <td>94.0</td>\n",
              "      <td>91.0</td>\n",
              "      <td>105.0</td>\n",
              "      <td>112.0</td>\n",
              "      <td>113.0</td>\n",
              "      <td>111.0</td>\n",
              "      <td>113.0</td>\n",
              "      <td>115.0</td>\n",
              "    </tr>\n",
              "    <tr>\n",
              "      <th>299</th>\n",
              "      <td>25.0</td>\n",
              "      <td>30.0</td>\n",
              "      <td>36.0</td>\n",
              "      <td>48.0</td>\n",
              "      <td>51.0</td>\n",
              "      <td>41.0</td>\n",
              "      <td>30.0</td>\n",
              "      <td>43.0</td>\n",
              "      <td>42.0</td>\n",
              "      <td>37.0</td>\n",
              "      <td>20.0</td>\n",
              "      <td>36.0</td>\n",
              "      <td>44.0</td>\n",
              "      <td>28.0</td>\n",
              "      <td>11.0</td>\n",
              "      <td>12.0</td>\n",
              "      <td>6.0</td>\n",
              "      <td>9.0</td>\n",
              "      <td>12.0</td>\n",
              "      <td>5.0</td>\n",
              "      <td>14.0</td>\n",
              "      <td>13.0</td>\n",
              "      <td>22.0</td>\n",
              "      <td>37.0</td>\n",
              "      <td>36.0</td>\n",
              "      <td>27.0</td>\n",
              "      <td>23.0</td>\n",
              "      <td>19.0</td>\n",
              "      <td>28.0</td>\n",
              "      <td>36.0</td>\n",
              "      <td>29.0</td>\n",
              "      <td>42.0</td>\n",
              "      <td>50.0</td>\n",
              "      <td>48.0</td>\n",
              "      <td>32.0</td>\n",
              "      <td>28.0</td>\n",
              "      <td>25.0</td>\n",
              "      <td>24.0</td>\n",
              "      <td>31.0</td>\n",
              "      <td>49.0</td>\n",
              "      <td>...</td>\n",
              "      <td>218.0</td>\n",
              "      <td>220.0</td>\n",
              "      <td>212.0</td>\n",
              "      <td>206.0</td>\n",
              "      <td>192.0</td>\n",
              "      <td>153.0</td>\n",
              "      <td>75.0</td>\n",
              "      <td>6.0</td>\n",
              "      <td>5.0</td>\n",
              "      <td>4.0</td>\n",
              "      <td>1.0</td>\n",
              "      <td>2.0</td>\n",
              "      <td>7.0</td>\n",
              "      <td>0.0</td>\n",
              "      <td>5.0</td>\n",
              "      <td>88.0</td>\n",
              "      <td>163.0</td>\n",
              "      <td>162.0</td>\n",
              "      <td>148.0</td>\n",
              "      <td>138.0</td>\n",
              "      <td>145.0</td>\n",
              "      <td>158.0</td>\n",
              "      <td>167.0</td>\n",
              "      <td>187.0</td>\n",
              "      <td>204.0</td>\n",
              "      <td>213.0</td>\n",
              "      <td>221.0</td>\n",
              "      <td>222.0</td>\n",
              "      <td>216.0</td>\n",
              "      <td>214.0</td>\n",
              "      <td>202.0</td>\n",
              "      <td>190.0</td>\n",
              "      <td>147.0</td>\n",
              "      <td>93.0</td>\n",
              "      <td>15.0</td>\n",
              "      <td>4.0</td>\n",
              "      <td>2.0</td>\n",
              "      <td>0.0</td>\n",
              "      <td>0.0</td>\n",
              "      <td>1.0</td>\n",
              "    </tr>\n",
              "    <tr>\n",
              "      <th>1537</th>\n",
              "      <td>40.0</td>\n",
              "      <td>41.0</td>\n",
              "      <td>39.0</td>\n",
              "      <td>38.0</td>\n",
              "      <td>39.0</td>\n",
              "      <td>38.0</td>\n",
              "      <td>37.0</td>\n",
              "      <td>36.0</td>\n",
              "      <td>38.0</td>\n",
              "      <td>38.0</td>\n",
              "      <td>36.0</td>\n",
              "      <td>37.0</td>\n",
              "      <td>42.0</td>\n",
              "      <td>34.0</td>\n",
              "      <td>40.0</td>\n",
              "      <td>43.0</td>\n",
              "      <td>43.0</td>\n",
              "      <td>44.0</td>\n",
              "      <td>57.0</td>\n",
              "      <td>46.0</td>\n",
              "      <td>39.0</td>\n",
              "      <td>42.0</td>\n",
              "      <td>46.0</td>\n",
              "      <td>55.0</td>\n",
              "      <td>55.0</td>\n",
              "      <td>49.0</td>\n",
              "      <td>43.0</td>\n",
              "      <td>39.0</td>\n",
              "      <td>40.0</td>\n",
              "      <td>42.0</td>\n",
              "      <td>41.0</td>\n",
              "      <td>42.0</td>\n",
              "      <td>42.0</td>\n",
              "      <td>36.0</td>\n",
              "      <td>38.0</td>\n",
              "      <td>77.0</td>\n",
              "      <td>91.0</td>\n",
              "      <td>129.0</td>\n",
              "      <td>105.0</td>\n",
              "      <td>92.0</td>\n",
              "      <td>...</td>\n",
              "      <td>215.0</td>\n",
              "      <td>207.0</td>\n",
              "      <td>206.0</td>\n",
              "      <td>186.0</td>\n",
              "      <td>135.0</td>\n",
              "      <td>142.0</td>\n",
              "      <td>165.0</td>\n",
              "      <td>178.0</td>\n",
              "      <td>195.0</td>\n",
              "      <td>50.0</td>\n",
              "      <td>43.0</td>\n",
              "      <td>143.0</td>\n",
              "      <td>237.0</td>\n",
              "      <td>235.0</td>\n",
              "      <td>228.0</td>\n",
              "      <td>213.0</td>\n",
              "      <td>183.0</td>\n",
              "      <td>99.0</td>\n",
              "      <td>234.0</td>\n",
              "      <td>183.0</td>\n",
              "      <td>145.0</td>\n",
              "      <td>110.0</td>\n",
              "      <td>138.0</td>\n",
              "      <td>171.0</td>\n",
              "      <td>181.0</td>\n",
              "      <td>189.0</td>\n",
              "      <td>190.0</td>\n",
              "      <td>191.0</td>\n",
              "      <td>191.0</td>\n",
              "      <td>172.0</td>\n",
              "      <td>129.0</td>\n",
              "      <td>131.0</td>\n",
              "      <td>177.0</td>\n",
              "      <td>222.0</td>\n",
              "      <td>241.0</td>\n",
              "      <td>149.0</td>\n",
              "      <td>48.0</td>\n",
              "      <td>45.0</td>\n",
              "      <td>45.0</td>\n",
              "      <td>82.0</td>\n",
              "    </tr>\n",
              "    <tr>\n",
              "      <th>3504</th>\n",
              "      <td>83.0</td>\n",
              "      <td>84.0</td>\n",
              "      <td>81.0</td>\n",
              "      <td>76.0</td>\n",
              "      <td>56.0</td>\n",
              "      <td>36.0</td>\n",
              "      <td>73.0</td>\n",
              "      <td>243.0</td>\n",
              "      <td>236.0</td>\n",
              "      <td>249.0</td>\n",
              "      <td>251.0</td>\n",
              "      <td>253.0</td>\n",
              "      <td>254.0</td>\n",
              "      <td>254.0</td>\n",
              "      <td>252.0</td>\n",
              "      <td>252.0</td>\n",
              "      <td>252.0</td>\n",
              "      <td>251.0</td>\n",
              "      <td>246.0</td>\n",
              "      <td>244.0</td>\n",
              "      <td>237.0</td>\n",
              "      <td>197.0</td>\n",
              "      <td>131.0</td>\n",
              "      <td>64.0</td>\n",
              "      <td>55.0</td>\n",
              "      <td>116.0</td>\n",
              "      <td>106.0</td>\n",
              "      <td>147.0</td>\n",
              "      <td>84.0</td>\n",
              "      <td>81.0</td>\n",
              "      <td>87.0</td>\n",
              "      <td>41.0</td>\n",
              "      <td>38.0</td>\n",
              "      <td>195.0</td>\n",
              "      <td>246.0</td>\n",
              "      <td>249.0</td>\n",
              "      <td>250.0</td>\n",
              "      <td>247.0</td>\n",
              "      <td>254.0</td>\n",
              "      <td>254.0</td>\n",
              "      <td>...</td>\n",
              "      <td>53.0</td>\n",
              "      <td>57.0</td>\n",
              "      <td>93.0</td>\n",
              "      <td>123.0</td>\n",
              "      <td>114.0</td>\n",
              "      <td>115.0</td>\n",
              "      <td>101.0</td>\n",
              "      <td>70.0</td>\n",
              "      <td>5.0</td>\n",
              "      <td>5.0</td>\n",
              "      <td>4.0</td>\n",
              "      <td>12.0</td>\n",
              "      <td>49.0</td>\n",
              "      <td>122.0</td>\n",
              "      <td>159.0</td>\n",
              "      <td>163.0</td>\n",
              "      <td>137.0</td>\n",
              "      <td>108.0</td>\n",
              "      <td>98.0</td>\n",
              "      <td>102.0</td>\n",
              "      <td>112.0</td>\n",
              "      <td>122.0</td>\n",
              "      <td>134.0</td>\n",
              "      <td>143.0</td>\n",
              "      <td>161.0</td>\n",
              "      <td>168.0</td>\n",
              "      <td>171.0</td>\n",
              "      <td>163.0</td>\n",
              "      <td>157.0</td>\n",
              "      <td>149.0</td>\n",
              "      <td>147.0</td>\n",
              "      <td>132.0</td>\n",
              "      <td>131.0</td>\n",
              "      <td>120.0</td>\n",
              "      <td>102.0</td>\n",
              "      <td>32.0</td>\n",
              "      <td>5.0</td>\n",
              "      <td>1.0</td>\n",
              "      <td>10.0</td>\n",
              "      <td>47.0</td>\n",
              "    </tr>\n",
              "  </tbody>\n",
              "</table>\n",
              "<p>5 rows × 784 columns</p>\n",
              "</div>"
            ],
            "text/plain": [
              "       0      1      2      3     4    ...    779    780    781    782    783\n",
              "2357  67.0  126.0  150.0  151.0  78.0  ...   91.0  122.0  127.0   66.0   47.0\n",
              "415   15.0   19.0   30.0   34.0  29.0  ...  112.0  113.0  111.0  113.0  115.0\n",
              "299   25.0   30.0   36.0   48.0  51.0  ...    4.0    2.0    0.0    0.0    1.0\n",
              "1537  40.0   41.0   39.0   38.0  39.0  ...  149.0   48.0   45.0   45.0   82.0\n",
              "3504  83.0   84.0   81.0   76.0  56.0  ...   32.0    5.0    1.0   10.0   47.0\n",
              "\n",
              "[5 rows x 784 columns]"
            ]
          },
          "metadata": {
            "tags": []
          },
          "execution_count": 19
        }
      ]
    },
    {
      "cell_type": "code",
      "metadata": {
        "colab": {
          "base_uri": "https://localhost:8080/"
        },
        "id": "99alAGQEwRxB",
        "outputId": "45141cff-f67c-4a63-e454-21d29f643629"
      },
      "source": [
        "print('True Label of \\n1. test case 25: ' , Y_test.iloc[25] , '\\n2. test case 56: ' , Y_test.iloc[56] , '\\n3. test case 100: ' , Y_test.iloc[100])\n",
        "Y_true = [Y_test.iloc[25] , Y_test.iloc[56] , Y_test.iloc[100]]"
      ],
      "execution_count": null,
      "outputs": [
        {
          "output_type": "stream",
          "text": [
            "True Label of \n",
            "1. test case 25:  1 \n",
            "2. test case 56:  0 \n",
            "3. test case 100:  1\n"
          ],
          "name": "stdout"
        }
      ]
    },
    {
      "cell_type": "code",
      "metadata": {
        "id": "iXsy8JTavR7a"
      },
      "source": [
        "X_test_1 = X_test.iloc[25]\n",
        "X_test_2 = X_test.iloc[56]\n",
        "X_test_3 = X_test.iloc[100]\n",
        "\n",
        "X_test_n_case = [X_test_1 , X_test_2 , X_test_3]"
      ],
      "execution_count": null,
      "outputs": []
    },
    {
      "cell_type": "code",
      "metadata": {
        "id": "od9lsTR8vR99"
      },
      "source": [
        "X_test_1_std = X_test_std[25]\n",
        "X_test_2_std = X_test_std[56]\n",
        "X_test_3_std = X_test_std[100]\n",
        "\n",
        "X_test_std_case = [X_test_1_std , X_test_2_std , X_test_3_std]"
      ],
      "execution_count": null,
      "outputs": []
    },
    {
      "cell_type": "code",
      "metadata": {
        "id": "R-2jTPenvSBS"
      },
      "source": [
        "X_test_1_lda = X_test_lda[25]\n",
        "X_test_2_lda = X_test_lda[56]\n",
        "X_test_3_lda = X_test_lda[100]\n",
        "\n",
        "X_test_lda_case = [X_test_1_lda , X_test_2_lda , X_test_3_lda]"
      ],
      "execution_count": null,
      "outputs": []
    },
    {
      "cell_type": "markdown",
      "metadata": {
        "id": "2bXb80TxiQv8"
      },
      "source": [
        "# Random Forest"
      ]
    },
    {
      "cell_type": "markdown",
      "metadata": {
        "id": "wCRSWZjdiUh9"
      },
      "source": [
        "rf on Normal data"
      ]
    },
    {
      "cell_type": "code",
      "metadata": {
        "id": "0s7ySTbKiUh9"
      },
      "source": [
        "rf_n = RandomForestClassifier(max_depth=2, random_state=0).fit(X_train, Y_train)\n",
        "Y_pred_n_rf = rf_n.predict(X_test)"
      ],
      "execution_count": null,
      "outputs": []
    },
    {
      "cell_type": "code",
      "metadata": {
        "colab": {
          "base_uri": "https://localhost:8080/"
        },
        "id": "hxES7046iUiJ",
        "outputId": "04771fd7-4ddc-4247-e8a3-143f48324ff6"
      },
      "source": [
        "print('For Random Forest on normal Data -')\n",
        "print(\"The Precision :\", precision_score(Y_test, Y_pred_n_rf))\n",
        "print(\"The Recall :\", recall_score(Y_test, Y_pred_n_rf))\n",
        "print(\"The F1 score :\", f1_score(Y_test, Y_pred_n_rf))\n",
        "print(\"The Accuracy :\", accuracy_score(Y_test, Y_pred_n_rf))\n",
        "print(\"\\nConfusion matrix :\")\n",
        "print( confusion_matrix(Y_test,Y_pred_n_rf))\n",
        "print('\\nClassification report : ')\n",
        "print(classification_report(Y_test, Y_pred_n_rf))"
      ],
      "execution_count": null,
      "outputs": [
        {
          "output_type": "stream",
          "text": [
            "For Random Forest on normal Data -\n",
            "The Precision : 0.8918269230769231\n",
            "The Recall : 0.6782449725776966\n",
            "The F1 score : 0.7705088265835929\n",
            "The Accuracy : 0.7992733878292462\n",
            "\n",
            "Confusion matrix :\n",
            "[[509  45]\n",
            " [176 371]]\n",
            "\n",
            "Classification report : \n",
            "              precision    recall  f1-score   support\n",
            "\n",
            "           0       0.74      0.92      0.82       554\n",
            "           1       0.89      0.68      0.77       547\n",
            "\n",
            "    accuracy                           0.80      1101\n",
            "   macro avg       0.82      0.80      0.80      1101\n",
            "weighted avg       0.82      0.80      0.80      1101\n",
            "\n"
          ],
          "name": "stdout"
        }
      ]
    },
    {
      "cell_type": "code",
      "metadata": {
        "colab": {
          "base_uri": "https://localhost:8080/"
        },
        "id": "dkngwtlFiUiK",
        "outputId": "bfccda79-13d6-49d2-ea61-ac882800bd18"
      },
      "source": [
        "csv_rf_n = cross_val_score(rf_n,X_val, Y_val, cv=5)\n",
        "\n",
        "print('Cross validation score: ' , csv_rf_n)\n",
        "print('Mean csv score: ' , np.mean(csv_rf_n))\n",
        "print('Standard deviation of csv score: ' , np.std(csv_rf_n))"
      ],
      "execution_count": null,
      "outputs": [
        {
          "output_type": "stream",
          "text": [
            "Cross validation score:  [0.8280543  0.78733032 0.76363636 0.82727273 0.82727273]\n",
            "Mean csv score:  0.8067132867132868\n",
            "Standard deviation of csv score:  0.026578716331224127\n"
          ],
          "name": "stdout"
        }
      ]
    },
    {
      "cell_type": "code",
      "metadata": {
        "colab": {
          "base_uri": "https://localhost:8080/"
        },
        "id": "zoDKJCelyNwQ",
        "outputId": "b380e090-92f7-4d1f-fe9e-0152b1391b0e"
      },
      "source": [
        "Y_pred_case_rf_n = rf_n.predict(X_test_n_case)\n",
        "print('Predicted cases for Random Forest on normal Data: ' , Y_pred_case_rf_n)"
      ],
      "execution_count": null,
      "outputs": [
        {
          "output_type": "stream",
          "text": [
            "Predicted cases for Random Forest on normal Data:  [1, 0, 0]\n"
          ],
          "name": "stdout"
        }
      ]
    },
    {
      "cell_type": "markdown",
      "metadata": {
        "id": "IPaId6KqiUiK"
      },
      "source": [
        "rf on Standardized data"
      ]
    },
    {
      "cell_type": "code",
      "metadata": {
        "id": "-V9Wm2_ZiUiL"
      },
      "source": [
        "rf_og = RandomForestClassifier(max_depth=2, random_state=0).fit(X_train_std, Y_train_std)\n",
        "Y_pred_og_rf = rf_og.predict(X_test_std)"
      ],
      "execution_count": null,
      "outputs": []
    },
    {
      "cell_type": "code",
      "metadata": {
        "colab": {
          "base_uri": "https://localhost:8080/"
        },
        "id": "7gSoSICMiUiL",
        "outputId": "18eb9586-ca62-491d-e1dc-d684d9b7ebb1"
      },
      "source": [
        "print('For Random Forest on standard Data -')\n",
        "print(\"The Precision :\", precision_score(Y_test_std, Y_pred_og_rf))\n",
        "print(\"The Recall :\", recall_score(Y_test_std, Y_pred_og_rf))\n",
        "print(\"The F1 score :\", f1_score(Y_test_std, Y_pred_og_rf))\n",
        "print(\"The Accuracy :\", accuracy_score(Y_test_std, Y_pred_og_rf))\n",
        "print(\"\\nConfusion matrix :\")\n",
        "print( confusion_matrix(Y_test_std,Y_pred_og_rf))\n",
        "print('\\nClassification report : ')\n",
        "print(classification_report(Y_test_std, Y_pred_og_rf))"
      ],
      "execution_count": null,
      "outputs": [
        {
          "output_type": "stream",
          "text": [
            "For Random Forest on standard Data -\n",
            "The Precision : 0.8918269230769231\n",
            "The Recall : 0.6782449725776966\n",
            "The F1 score : 0.7705088265835929\n",
            "The Accuracy : 0.7992733878292462\n",
            "\n",
            "Confusion matrix :\n",
            "[[509  45]\n",
            " [176 371]]\n",
            "\n",
            "Classification report : \n",
            "              precision    recall  f1-score   support\n",
            "\n",
            "           0       0.74      0.92      0.82       554\n",
            "           1       0.89      0.68      0.77       547\n",
            "\n",
            "    accuracy                           0.80      1101\n",
            "   macro avg       0.82      0.80      0.80      1101\n",
            "weighted avg       0.82      0.80      0.80      1101\n",
            "\n"
          ],
          "name": "stdout"
        }
      ]
    },
    {
      "cell_type": "code",
      "metadata": {
        "colab": {
          "base_uri": "https://localhost:8080/"
        },
        "id": "69PmC20YiUiL",
        "outputId": "c162bdb5-240d-47da-a509-d009324c9bec"
      },
      "source": [
        "csv_rf_s = cross_val_score(rf_og,X_val_std, Y_val_std, cv=5)\n",
        "\n",
        "print('Cross validation score: ' , csv_rf_s)\n",
        "print('Mean csv score: ' , np.mean(csv_rf_s))\n",
        "print('Standard deviation of csv score: ' , np.std(csv_rf_s))"
      ],
      "execution_count": null,
      "outputs": [
        {
          "output_type": "stream",
          "text": [
            "Cross validation score:  [0.8280543  0.78733032 0.76363636 0.82727273 0.82727273]\n",
            "Mean csv score:  0.8067132867132868\n",
            "Standard deviation of csv score:  0.026578716331224127\n"
          ],
          "name": "stdout"
        }
      ]
    },
    {
      "cell_type": "code",
      "metadata": {
        "colab": {
          "base_uri": "https://localhost:8080/"
        },
        "id": "speCf0ilyVGq",
        "outputId": "df0363da-ff05-4f40-a12d-cddaa43ecd47"
      },
      "source": [
        "Y_pred_case_rf_std = rf_og.predict(X_test_std_case)\n",
        "print('Predicted cases for Random Forest on standard Data: ' , Y_pred_case_rf_std)"
      ],
      "execution_count": null,
      "outputs": [
        {
          "output_type": "stream",
          "text": [
            "Predicted cases for Random Forest on standard Data:  [1, 0, 0]\n"
          ],
          "name": "stdout"
        }
      ]
    },
    {
      "cell_type": "markdown",
      "metadata": {
        "id": "8CPNbIMLiUiM"
      },
      "source": [
        "rf By dimensionality reduction\n"
      ]
    },
    {
      "cell_type": "code",
      "metadata": {
        "id": "_FC1LZefiUiM"
      },
      "source": [
        "rf_dim = RandomForestClassifier(max_depth=2, random_state=0).fit(X_train_lda , Y_train_lda)\n",
        "Y_pred_dim_rf = rf_dim.predict(X_test_lda)"
      ],
      "execution_count": null,
      "outputs": []
    },
    {
      "cell_type": "code",
      "metadata": {
        "colab": {
          "base_uri": "https://localhost:8080/"
        },
        "id": "xNErV7u0iUiM",
        "outputId": "f1834439-af90-4613-8487-190cb9ccd337"
      },
      "source": [
        "print('For Random Forest on dimensionaly reduced Data -')\n",
        "print(\"The Precision :\", precision_score(Y_test_std, Y_pred_dim_rf))\n",
        "print(\"The Recall :\", recall_score(Y_test_std, Y_pred_dim_rf))\n",
        "print(\"The F1 score :\", f1_score(Y_test_std, Y_pred_dim_rf))\n",
        "print(\"The Accuracy :\", accuracy_score(Y_test_std, Y_pred_dim_rf))\n",
        "print(\"\\nConfusion matrix :\")\n",
        "print( confusion_matrix(Y_test_std,Y_pred_dim_rf))\n",
        "print('\\nClassification report : ')\n",
        "print(classification_report(Y_test_std, Y_pred_dim_rf))"
      ],
      "execution_count": null,
      "outputs": [
        {
          "output_type": "stream",
          "text": [
            "For Random Forest on dimensionaly reduced Data -\n",
            "The Precision : 0.8301886792452831\n",
            "The Recall : 0.8848263254113345\n",
            "The F1 score : 0.856637168141593\n",
            "The Accuracy : 0.8528610354223434\n",
            "\n",
            "Confusion matrix :\n",
            "[[455  99]\n",
            " [ 63 484]]\n",
            "\n",
            "Classification report : \n",
            "              precision    recall  f1-score   support\n",
            "\n",
            "           0       0.88      0.82      0.85       554\n",
            "           1       0.83      0.88      0.86       547\n",
            "\n",
            "    accuracy                           0.85      1101\n",
            "   macro avg       0.85      0.85      0.85      1101\n",
            "weighted avg       0.85      0.85      0.85      1101\n",
            "\n"
          ],
          "name": "stdout"
        }
      ]
    },
    {
      "cell_type": "code",
      "metadata": {
        "colab": {
          "base_uri": "https://localhost:8080/"
        },
        "id": "wlg2QTYLiUiN",
        "outputId": "2442f2ec-29c2-4c2b-bfad-c6af893bbb18"
      },
      "source": [
        "csv_rf_lda = cross_val_score(rf_dim,X_val_lda, Y_val_lda, cv=5)\n",
        "\n",
        "print('Cross validation score: ' , csv_rf_lda)\n",
        "print('Mean csv score: ' , np.mean(csv_rf_lda))\n",
        "print('Standard deviation of csv score: ' , np.std(csv_rf_lda))"
      ],
      "execution_count": null,
      "outputs": [
        {
          "output_type": "stream",
          "text": [
            "Cross validation score:  [0.85067873 0.88687783 0.84090909 0.90454545 0.84090909]\n",
            "Mean csv score:  0.8647840394899218\n",
            "Standard deviation of csv score:  0.02610782116570224\n"
          ],
          "name": "stdout"
        }
      ]
    },
    {
      "cell_type": "code",
      "metadata": {
        "colab": {
          "base_uri": "https://localhost:8080/"
        },
        "id": "Sg_KTdhQyWTr",
        "outputId": "61d512d5-5b34-4b40-97f6-43efb3364fcb"
      },
      "source": [
        "Y_pred_case_rf_lda = rf_dim.predict(X_test_n_case)\n",
        "print('Predicted cases for Random Forest on dimensionaly reduced Data: ' , Y_pred_case_rf_lda)"
      ],
      "execution_count": null,
      "outputs": [
        {
          "output_type": "stream",
          "text": [
            "Predicted cases for Random Forest on dimensionaly reduced Data:  [1, 0, 1]\n"
          ],
          "name": "stdout"
        }
      ]
    }
  ]
}